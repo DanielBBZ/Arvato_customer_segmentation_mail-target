{
 "cells": [
  {
   "cell_type": "markdown",
   "metadata": {},
   "source": [
    "# Capstone Project: Create a Customer Segmentation Report for Arvato Financial Services\n",
    "\n",
    "In this project, you will analyze demographics data for customers of a mail-order sales company in Germany, comparing it against demographics information for the general population. You'll use unsupervised learning techniques to perform customer segmentation, identifying the parts of the population that best describe the core customer base of the company. Then, you'll apply what you've learned on a third dataset with demographics information for targets of a marketing campaign for the company, and use a model to predict which individuals are most likely to convert into becoming customers for the company. The data that you will use has been provided by our partners at Bertelsmann Arvato Analytics, and represents a real-life data science task.\n",
    "\n",
    "If you completed the first term of this program, you will be familiar with the first part of this project, from the unsupervised learning project. The versions of those two datasets used in this project will include many more features and has not been pre-cleaned. You are also free to choose whatever approach you'd like to analyzing the data rather than follow pre-determined steps. In your work on this project, make sure that you carefully document your steps and decisions, since your main deliverable for this project will be a blog post reporting your findings."
   ]
  },
  {
   "cell_type": "markdown",
   "metadata": {},
   "source": [
    "# Part 0: Get to Know the Data\n",
    "\n",
    "There are four data files associated with this project:\n",
    "\n",
    "- `Udacity_AZDIAS_052018.csv`: Demographics data for the general population of Germany; 891 211 persons (rows) x 366 features (columns).\n",
    "- `Udacity_CUSTOMERS_052018.csv`: Demographics data for customers of a mail-order company; 191 652 persons (rows) x 369 features (columns).\n",
    "- `Udacity_MAILOUT_052018_TRAIN.csv`: Demographics data for individuals who were targets of a marketing campaign; 42 982 persons (rows) x 367 (columns).\n",
    "- `Udacity_MAILOUT_052018_TEST.csv`: Demographics data for individuals who were targets of a marketing campaign; 42 833 persons (rows) x 366 (columns).\n",
    "\n",
    "Each row of the demographics files represents a single person, but also includes information outside of individuals, including information about their household, building, and neighborhood. Use the information from the first two files to figure out how customers (\"CUSTOMERS\") are similar to or differ from the general population at large (\"AZDIAS\"), then use your analysis to make predictions on the other two files (\"MAILOUT\"), predicting which recipients are most likely to become a customer for the mail-order company.\n",
    "\n",
    "The \"CUSTOMERS\" file contains three extra columns ('CUSTOMER_GROUP', 'ONLINE_PURCHASE', and 'PRODUCT_GROUP'), which provide broad information about the customers depicted in the file. The original \"MAILOUT\" file included one additional column, \"RESPONSE\", which indicated whether or not each recipient became a customer of the company. For the \"TRAIN\" subset, this column has been retained, but in the \"TEST\" subset it has been removed; it is against that withheld column that your final predictions will be assessed in the Kaggle competition.\n",
    "\n",
    "Otherwise, all of the remaining columns are the same between the three data files. For more information about the columns depicted in the files, you can refer to two Excel spreadsheets provided in the workspace. [One of them](./DIAS Information Levels - Attributes 2017.xlsx) is a top-level list of attributes and descriptions, organized by informational category. [The other](./DIAS Attributes - Values 2017.xlsx) is a detailed mapping of data values for each feature in alphabetical order.\n",
    "\n",
    "In the below cell, we've provided some initial code to load in the first two datasets. Note for all of the `.csv` data files in this project that they're semicolon (`;`) delimited, so an additional argument in the [`read_csv()`](https://pandas.pydata.org/pandas-docs/stable/generated/pandas.read_csv.html) call has been included to read in the data properly. Also, considering the size of the datasets, it may take some time for them to load completely.\n",
    "\n",
    "You'll notice when the data is loaded in that a warning message will immediately pop up. Before you really start digging into the modeling and analysis, you're going to need to perform some cleaning. Take some time to browse the structure of the data and look over the informational spreadsheets to understand the data values. Make some decisions on which features to keep, which features to drop, and if any revisions need to be made on data formats. It'll be a good idea to create a function with pre-processing steps, since you'll need to clean all of the datasets before you work with them."
   ]
  },
  {
   "cell_type": "code",
   "execution_count": 1,
   "metadata": {
    "ExecuteTime": {
     "end_time": "2020-05-20T23:01:24.627257Z",
     "start_time": "2020-05-20T23:01:21.800591Z"
    }
   },
   "outputs": [],
   "source": [
    "# import libraries here; add more as necessary\n",
    "import numpy as np\n",
    "import pandas as pd\n",
    "import matplotlib.pyplot as plt\n",
    "import seaborn as sns\n",
    "\n",
    "from sklearn.pipeline import Pipeline\n",
    "from sklearn.preprocessing import Imputer, StandardScaler\n",
    "from sklearn.decomposition import PCA\n",
    "from sklearn.manifold import TSNE\n",
    "from sklearn.cluster import KMeans, MiniBatchKMeans\n",
    "from sklearn.model_selection import GridSearchCV\n",
    "from sklearn.metrics import roc_auc_score\n",
    "\n",
    "from IPython.core.interactiveshell import InteractiveShell\n",
    "InteractiveShell.ast_node_interactivity = \"all\"\n",
    "\n",
    "import warnings\n",
    "warnings.filterwarnings(\"ignore\")\n",
    "# magic word for producing visualizations in notebook\n",
    "%matplotlib inline"
   ]
  },
  {
   "cell_type": "code",
   "execution_count": 2,
   "metadata": {
    "ExecuteTime": {
     "end_time": "2020-05-20T23:01:24.672365Z",
     "start_time": "2020-05-20T23:01:24.649307Z"
    },
    "code_folding": [
     1,
     26
    ]
   },
   "outputs": [],
   "source": [
    "# function to get count for each group\n",
    "def groupcount(data,sortcol = None):\n",
    "    '''\n",
    "    input: \n",
    "        data: df[col] or dr.col,dataframe name followed by the column which used to get the group\n",
    "        sortcol: int, should be 0, 1 or 2, defines which columns used to sort by\n",
    "    use case: groupcount(df.col1, 0)\n",
    "    '''\n",
    "    if data.isnull().sum()>0:\n",
    "        if data.dtype == 'O':\n",
    "            data = data.astype(str)\n",
    "        temp = data.fillna('None').value_counts().reset_index(name='Count')\n",
    "    else:\n",
    "        temp = data.value_counts().reset_index(name='Count')\n",
    "    temp = temp.rename(index=str,columns={'index': 'Group'})\n",
    "    temp['percent'] = round(temp.Count / temp.Count.sum() *100,1)\n",
    "    \n",
    "    if sortcol==1:\n",
    "        temp = temp.sort_values('Group')\n",
    "    elif sortcol==2:\n",
    "        temp = temp.sort_values('Count')\n",
    "    return temp\n",
    "\n",
    "# Function to calculate missing values by column# Funct \n",
    "# based on the file DIAS Attributes, for majority of features, values of 0 or -1 (some 9) represent unknown\n",
    "# which is equal to missing in this case. I will replace these with -1 first and use this function to calculate missing rate\n",
    "def missing_values_table(data):\n",
    "    import pandas as pd\n",
    "    import numpy as np\n",
    "    \n",
    "    df = data.copy()\n",
    "    df.replace(to_replace = -1, value = np.nan, inplace = True)\n",
    "\n",
    "    # Total missing values\n",
    "    mis_val = df.isnull().sum()\n",
    "    \n",
    "    # Percentage of missing values\n",
    "    mis_val_percent = 100 * df.isnull().sum() / len(df)\n",
    "    \n",
    "    # Make a table with the results\n",
    "    mis_val_table = pd.concat([mis_val, mis_val_percent], axis=1)\n",
    "    \n",
    "    # Rename the columns\n",
    "    mis_val_table_ren_columns = mis_val_table.rename(\n",
    "    columns = {0 : 'Missing Values', 1 : '% of Total Values'})\n",
    "    \n",
    "    # Sort the table by percentage of missing descending\n",
    "    mis_val_table_ren_columns = mis_val_table_ren_columns[\n",
    "        mis_val_table_ren_columns.iloc[:,1] != 0].sort_values(\n",
    "    '% of Total Values', ascending=False).round(1)\n",
    "    \n",
    "    #Calculate how many columns has bigger than 95% missing, save result to table\n",
    "    BIGmissingN = mis_val_table_ren_columns.loc[mis_val_table_ren_columns['% of Total Values']>95].count()[1]\n",
    "    \n",
    "    # Print some summary information\n",
    "    #  print (\"Total columns: \" + str(df.shape[1]) + \"\\n\"      \n",
    "    #      + \"Columns that have missing values: \" + str(mis_val_table_ren_columns.shape[0]) + \"\\n\"\n",
    "    #        + 'Missing>95% column number: ' + str(BIGmissingN))\n",
    "    \n",
    "    # Return the dataframe with missing information\n",
    "    return mis_val_table_ren_columns\n"
   ]
  },
  {
   "cell_type": "markdown",
   "metadata": {},
   "source": [
    "## load data"
   ]
  },
  {
   "cell_type": "code",
   "execution_count": 3,
   "metadata": {
    "ExecuteTime": {
     "end_time": "2020-05-20T23:18:16.365343Z",
     "start_time": "2020-05-20T23:18:15.494522Z"
    }
   },
   "outputs": [],
   "source": [
    "# load in the data\n",
    "azdias = pd.read_csv('../data_Arvato/Udacity_AZDIAS_052018.csv')\n",
    "# customers = pd.read_csv('../data_Arvato/Udacity_CUSTOMERS_052018.csv')\n",
    "\n",
    "DIAS_info = pd.read_excel('DIAS Information Levels - Attributes 2017.xlsx')\n",
    "DIAS_info = DIAS_info.reset_index(drop=True)\n",
    "ATTR_info = pd.read_excel('DIAS Attributes - Values 2017.xlsx')\n",
    "ATTR_info.drop(columns=['Unnamed: 0'], inplace=True)\n",
    "\n",
    "ATTR_info['Attribute'] = ATTR_info['Attribute'].fillna(method = 'pad')\n",
    "ATTR_info['Description'] = ATTR_info['Description'].fillna(method = 'pad')\n",
    "# ATTR_info.head(5)"
   ]
  },
  {
   "cell_type": "code",
   "execution_count": 4,
   "metadata": {
    "ExecuteTime": {
     "end_time": "2020-05-16T15:59:09.633150Z",
     "start_time": "2020-05-16T15:59:09.456682Z"
    }
   },
   "outputs": [
    {
     "name": "stdout",
     "output_type": "stream",
     "text": [
      "azdias data shape: (891221, 366); customer data shape: (891221, 366)\n",
      "extra columns for customer data:  ['PRODUCT_GROUP', 'CUSTOMER_GROUP', 'ONLINE_PURCHASE']\n",
      "               Group   Count  percent\n",
      "0  COSMETIC_AND_FOOD  100860     52.6\n",
      "1               FOOD   47382     24.7\n",
      "2           COSMETIC   43410     22.7\n",
      "          Group   Count  percent\n",
      "0   MULTI_BUYER  132238     69.0\n",
      "1  SINGLE_BUYER   59414     31.0\n",
      "   Group   Count  percent\n",
      "0      0  174356     91.0\n",
      "1      1   17296      9.0\n"
     ]
    }
   ],
   "source": [
    "print('azdias data shape: {0}; customer data shape: {0}'.format(azdias.shape, customers.shape))\n",
    "print('extra columns for customer data: ', [e for e in customers.columns if e not in azdias.columns])\n",
    "\n",
    "print(groupcount(customers['PRODUCT_GROUP']))\n",
    "print(groupcount(customers['CUSTOMER_GROUP']))\n",
    "print(groupcount(customers['ONLINE_PURCHASE']))"
   ]
  },
  {
   "cell_type": "markdown",
   "metadata": {},
   "source": [
    "Based on the above analysis, we can confirm the three extra columns in customer data, during which we can see \n",
    "1. almost half of the customers buy both COSMETIC_AND_FOOD\n",
    "2. the rest of the customers don't have strong preference between cosmetic and food\n",
    "3. around 70% of customers are multi-buyer\n",
    "4. majority of customers are in-store buyers (91%)\n",
    "\n",
    "based on No.4, my questions is: \n",
    "1. does store location plays an important role for target customers?\n",
    "2. for the 9% online customers, are they far from the store?"
   ]
  },
  {
   "cell_type": "markdown",
   "metadata": {},
   "source": [
    "## high missing rate features and categorical features"
   ]
  },
  {
   "cell_type": "code",
   "execution_count": 58,
   "metadata": {
    "ExecuteTime": {
     "end_time": "2020-05-18T17:32:18.128312Z",
     "start_time": "2020-05-18T17:32:17.767341Z"
    }
   },
   "outputs": [
    {
     "data": {
      "text/plain": [
       "'AGER_TYP'"
      ]
     },
     "execution_count": 58,
     "metadata": {},
     "output_type": "execute_result"
    },
    {
     "data": {
      "text/plain": [
       "94"
      ]
     },
     "execution_count": 58,
     "metadata": {},
     "output_type": "execute_result"
    },
    {
     "data": {
      "text/html": [
       "<div>\n",
       "<style scoped>\n",
       "    .dataframe tbody tr th:only-of-type {\n",
       "        vertical-align: middle;\n",
       "    }\n",
       "\n",
       "    .dataframe tbody tr th {\n",
       "        vertical-align: top;\n",
       "    }\n",
       "\n",
       "    .dataframe thead th {\n",
       "        text-align: right;\n",
       "    }\n",
       "</style>\n",
       "<table border=\"1\" class=\"dataframe\">\n",
       "  <thead>\n",
       "    <tr style=\"text-align: right;\">\n",
       "      <th></th>\n",
       "      <th>Attribute</th>\n",
       "      <th>Description</th>\n",
       "      <th>Value</th>\n",
       "      <th>Meaning</th>\n",
       "    </tr>\n",
       "  </thead>\n",
       "  <tbody>\n",
       "    <tr>\n",
       "      <th>0</th>\n",
       "      <td>AGER_TYP</td>\n",
       "      <td>best-ager typology</td>\n",
       "      <td>-1</td>\n",
       "      <td>unknown</td>\n",
       "    </tr>\n",
       "    <tr>\n",
       "      <th>1</th>\n",
       "      <td>AGER_TYP</td>\n",
       "      <td>best-ager typology</td>\n",
       "      <td>0</td>\n",
       "      <td>no classification possible</td>\n",
       "    </tr>\n",
       "    <tr>\n",
       "      <th>2</th>\n",
       "      <td>AGER_TYP</td>\n",
       "      <td>best-ager typology</td>\n",
       "      <td>1</td>\n",
       "      <td>passive elderly</td>\n",
       "    </tr>\n",
       "    <tr>\n",
       "      <th>3</th>\n",
       "      <td>AGER_TYP</td>\n",
       "      <td>best-ager typology</td>\n",
       "      <td>2</td>\n",
       "      <td>cultural elderly</td>\n",
       "    </tr>\n",
       "    <tr>\n",
       "      <th>4</th>\n",
       "      <td>AGER_TYP</td>\n",
       "      <td>best-ager typology</td>\n",
       "      <td>3</td>\n",
       "      <td>experience-driven elderly</td>\n",
       "    </tr>\n",
       "  </tbody>\n",
       "</table>\n",
       "</div>"
      ],
      "text/plain": [
       "  Attribute         Description Value                     Meaning\n",
       "0  AGER_TYP  best-ager typology    -1                     unknown\n",
       "1  AGER_TYP  best-ager typology     0  no classification possible\n",
       "2  AGER_TYP  best-ager typology     1             passive elderly\n",
       "3  AGER_TYP  best-ager typology     2            cultural elderly\n",
       "4  AGER_TYP  best-ager typology     3   experience-driven elderly"
      ]
     },
     "execution_count": 58,
     "metadata": {},
     "output_type": "execute_result"
    }
   ],
   "source": [
    "azdias.columns[1]\n",
    "noinfo_col = [e for e in list(azdias.columns) if e not in list(ATTR_info['Attribute'].apply(lambda x: x.strip()))]\n",
    "len(noinfo_col)\n",
    "ATTR_info[ATTR_info['Attribute']==azdias.columns[1]]"
   ]
  },
  {
   "cell_type": "code",
   "execution_count": 5,
   "metadata": {
    "ExecuteTime": {
     "end_time": "2020-05-16T15:59:35.174908Z",
     "start_time": "2020-05-16T15:59:35.153846Z"
    }
   },
   "outputs": [
    {
     "data": {
      "text/plain": [
       "(233, 4)"
      ]
     },
     "execution_count": 5,
     "metadata": {},
     "output_type": "execute_result"
    },
    {
     "data": {
      "text/html": [
       "<div>\n",
       "<style scoped>\n",
       "    .dataframe tbody tr th:only-of-type {\n",
       "        vertical-align: middle;\n",
       "    }\n",
       "\n",
       "    .dataframe tbody tr th {\n",
       "        vertical-align: top;\n",
       "    }\n",
       "\n",
       "    .dataframe thead th {\n",
       "        text-align: right;\n",
       "    }\n",
       "</style>\n",
       "<table border=\"1\" class=\"dataframe\">\n",
       "  <thead>\n",
       "    <tr style=\"text-align: right;\">\n",
       "      <th></th>\n",
       "      <th>Attribute</th>\n",
       "      <th>Description</th>\n",
       "      <th>Value</th>\n",
       "      <th>Meaning</th>\n",
       "    </tr>\n",
       "  </thead>\n",
       "  <tbody>\n",
       "    <tr>\n",
       "      <th>0</th>\n",
       "      <td>AGER_TYP</td>\n",
       "      <td>best-ager typology</td>\n",
       "      <td>-1</td>\n",
       "      <td>unknown</td>\n",
       "    </tr>\n",
       "    <tr>\n",
       "      <th>5</th>\n",
       "      <td>ALTERSKATEGORIE_GROB</td>\n",
       "      <td>age classification through prename analysis</td>\n",
       "      <td>-1, 0</td>\n",
       "      <td>unknown</td>\n",
       "    </tr>\n",
       "    <tr>\n",
       "      <th>11</th>\n",
       "      <td>ALTER_HH</td>\n",
       "      <td>main age within the household</td>\n",
       "      <td>0</td>\n",
       "      <td>unknown / no main age detectable</td>\n",
       "    </tr>\n",
       "    <tr>\n",
       "      <th>33</th>\n",
       "      <td>ANREDE_KZ</td>\n",
       "      <td>gender</td>\n",
       "      <td>-1, 0</td>\n",
       "      <td>unknown</td>\n",
       "    </tr>\n",
       "    <tr>\n",
       "      <th>40</th>\n",
       "      <td>BALLRAUM</td>\n",
       "      <td>distance to next urban centre</td>\n",
       "      <td>-1</td>\n",
       "      <td>unknown</td>\n",
       "    </tr>\n",
       "  </tbody>\n",
       "</table>\n",
       "</div>"
      ],
      "text/plain": [
       "               Attribute                                   Description  Value  \\\n",
       "0               AGER_TYP                            best-ager typology     -1   \n",
       "5   ALTERSKATEGORIE_GROB  age classification through prename analysis   -1, 0   \n",
       "11              ALTER_HH                 main age within the household      0   \n",
       "33             ANREDE_KZ                                        gender  -1, 0   \n",
       "40              BALLRAUM                distance to next urban centre      -1   \n",
       "\n",
       "                             Meaning  \n",
       "0                            unknown  \n",
       "5                            unknown  \n",
       "11  unknown / no main age detectable  \n",
       "33                           unknown  \n",
       "40                           unknown  "
      ]
     },
     "execution_count": 5,
     "metadata": {},
     "output_type": "execute_result"
    }
   ],
   "source": [
    "# get unknow value for each variable \n",
    "UNKN = ATTR_info[ATTR_info['Meaning'].apply(lambda x: 'unknown' in str(x))]\n",
    "UNKN.shape\n",
    "UNKN.head()"
   ]
  },
  {
   "cell_type": "code",
   "execution_count": 69,
   "metadata": {
    "ExecuteTime": {
     "end_time": "2020-05-12T03:37:18.237213Z",
     "start_time": "2020-05-12T03:37:14.998253Z"
    }
   },
   "outputs": [
    {
     "data": {
      "text/plain": [
       "225"
      ]
     },
     "execution_count": 69,
     "metadata": {},
     "output_type": "execute_result"
    },
    {
     "name": "stdout",
     "output_type": "stream",
     "text": [
      "89 values got replaced for unknow\n"
     ]
    }
   ],
   "source": [
    "# go through every line to replace unknown value to -1\n",
    "len([e for e in azdias.columns if e in list(UNKN['Attribute'])])\n",
    "# [e for e in list(UNKN['Attribute']) if e not in azdias.columns]\n",
    "n=0\n",
    "for e in list(UNKN['Attribute']):\n",
    "    if e in azdias.columns:\n",
    "        miss_value = UNKN[UNKN['Attribute']==e]['Value'].values\n",
    "        if type(miss_value[0]) == str:\n",
    "            n+=1\n",
    "            miss_value = [int(x) for x in miss_value[0].split(',')]\n",
    "            azdias[e] = np.where(azdias[e].isin(miss_value), -1, azdias[e])\n",
    "print(n, 'values got replaced for unknow')    "
   ]
  },
  {
   "cell_type": "code",
   "execution_count": 6,
   "metadata": {
    "ExecuteTime": {
     "end_time": "2020-05-16T16:00:24.925083Z",
     "start_time": "2020-05-16T16:00:03.856015Z"
    }
   },
   "outputs": [
    {
     "data": {
      "text/html": [
       "<div>\n",
       "<style scoped>\n",
       "    .dataframe tbody tr th:only-of-type {\n",
       "        vertical-align: middle;\n",
       "    }\n",
       "\n",
       "    .dataframe tbody tr th {\n",
       "        vertical-align: top;\n",
       "    }\n",
       "\n",
       "    .dataframe thead th {\n",
       "        text-align: right;\n",
       "    }\n",
       "</style>\n",
       "<table border=\"1\" class=\"dataframe\">\n",
       "  <thead>\n",
       "    <tr style=\"text-align: right;\">\n",
       "      <th></th>\n",
       "      <th>Missing Values</th>\n",
       "      <th>% of Total Values</th>\n",
       "    </tr>\n",
       "  </thead>\n",
       "  <tbody>\n",
       "    <tr>\n",
       "      <th>ALTER_KIND4</th>\n",
       "      <td>890016</td>\n",
       "      <td>99.9</td>\n",
       "    </tr>\n",
       "    <tr>\n",
       "      <th>ALTER_KIND3</th>\n",
       "      <td>885051</td>\n",
       "      <td>99.3</td>\n",
       "    </tr>\n",
       "    <tr>\n",
       "      <th>ALTER_KIND2</th>\n",
       "      <td>861722</td>\n",
       "      <td>96.7</td>\n",
       "    </tr>\n",
       "    <tr>\n",
       "      <th>ALTER_KIND1</th>\n",
       "      <td>810163</td>\n",
       "      <td>90.9</td>\n",
       "    </tr>\n",
       "    <tr>\n",
       "      <th>AGER_TYP</th>\n",
       "      <td>677503</td>\n",
       "      <td>76.0</td>\n",
       "    </tr>\n",
       "    <tr>\n",
       "      <th>EXTSEL992</th>\n",
       "      <td>654153</td>\n",
       "      <td>73.4</td>\n",
       "    </tr>\n",
       "    <tr>\n",
       "      <th>KK_KUNDENTYP</th>\n",
       "      <td>584612</td>\n",
       "      <td>65.6</td>\n",
       "    </tr>\n",
       "    <tr>\n",
       "      <th>ALTERSKATEGORIE_FEIN</th>\n",
       "      <td>262947</td>\n",
       "      <td>29.5</td>\n",
       "    </tr>\n",
       "    <tr>\n",
       "      <th>D19_VERSI_ONLINE_QUOTE_12</th>\n",
       "      <td>257113</td>\n",
       "      <td>28.8</td>\n",
       "    </tr>\n",
       "    <tr>\n",
       "      <th>D19_VERSAND_ONLINE_QUOTE_12</th>\n",
       "      <td>257113</td>\n",
       "      <td>28.8</td>\n",
       "    </tr>\n",
       "  </tbody>\n",
       "</table>\n",
       "</div>"
      ],
      "text/plain": [
       "                             Missing Values  % of Total Values\n",
       "ALTER_KIND4                          890016               99.9\n",
       "ALTER_KIND3                          885051               99.3\n",
       "ALTER_KIND2                          861722               96.7\n",
       "ALTER_KIND1                          810163               90.9\n",
       "AGER_TYP                             677503               76.0\n",
       "EXTSEL992                            654153               73.4\n",
       "KK_KUNDENTYP                         584612               65.6\n",
       "ALTERSKATEGORIE_FEIN                 262947               29.5\n",
       "D19_VERSI_ONLINE_QUOTE_12            257113               28.8\n",
       "D19_VERSAND_ONLINE_QUOTE_12          257113               28.8"
      ]
     },
     "execution_count": 6,
     "metadata": {},
     "output_type": "execute_result"
    }
   ],
   "source": [
    "missing_data = missing_values_table(azdias)\n",
    "missing_data.head(10)"
   ]
  },
  {
   "cell_type": "code",
   "execution_count": 12,
   "metadata": {
    "ExecuteTime": {
     "end_time": "2020-05-18T01:10:54.354613Z",
     "start_time": "2020-05-18T01:10:54.319520Z"
    }
   },
   "outputs": [
    {
     "data": {
      "text/plain": [
       "['ALTER_KIND4',\n",
       " 'ALTER_KIND3',\n",
       " 'ALTER_KIND2',\n",
       " 'ALTER_KIND1',\n",
       " 'AGER_TYP',\n",
       " 'EXTSEL992',\n",
       " 'KK_KUNDENTYP']"
      ]
     },
     "execution_count": 12,
     "metadata": {},
     "output_type": "execute_result"
    },
    {
     "data": {
      "text/html": [
       "<div>\n",
       "<style scoped>\n",
       "    .dataframe tbody tr th:only-of-type {\n",
       "        vertical-align: middle;\n",
       "    }\n",
       "\n",
       "    .dataframe tbody tr th {\n",
       "        vertical-align: top;\n",
       "    }\n",
       "\n",
       "    .dataframe thead th {\n",
       "        text-align: right;\n",
       "    }\n",
       "</style>\n",
       "<table border=\"1\" class=\"dataframe\">\n",
       "  <thead>\n",
       "    <tr style=\"text-align: right;\">\n",
       "      <th></th>\n",
       "      <th>Attribute</th>\n",
       "      <th>Description</th>\n",
       "      <th>Value</th>\n",
       "      <th>Meaning</th>\n",
       "    </tr>\n",
       "  </thead>\n",
       "  <tbody>\n",
       "    <tr>\n",
       "      <th>0</th>\n",
       "      <td>AGER_TYP</td>\n",
       "      <td>best-ager typology</td>\n",
       "      <td>-1</td>\n",
       "      <td>unknown</td>\n",
       "    </tr>\n",
       "    <tr>\n",
       "      <th>1</th>\n",
       "      <td>AGER_TYP</td>\n",
       "      <td>best-ager typology</td>\n",
       "      <td>0</td>\n",
       "      <td>no classification possible</td>\n",
       "    </tr>\n",
       "    <tr>\n",
       "      <th>2</th>\n",
       "      <td>AGER_TYP</td>\n",
       "      <td>best-ager typology</td>\n",
       "      <td>1</td>\n",
       "      <td>passive elderly</td>\n",
       "    </tr>\n",
       "    <tr>\n",
       "      <th>3</th>\n",
       "      <td>AGER_TYP</td>\n",
       "      <td>best-ager typology</td>\n",
       "      <td>2</td>\n",
       "      <td>cultural elderly</td>\n",
       "    </tr>\n",
       "    <tr>\n",
       "      <th>4</th>\n",
       "      <td>AGER_TYP</td>\n",
       "      <td>best-ager typology</td>\n",
       "      <td>3</td>\n",
       "      <td>experience-driven elderly</td>\n",
       "    </tr>\n",
       "  </tbody>\n",
       "</table>\n",
       "</div>"
      ],
      "text/plain": [
       "  Attribute         Description Value                     Meaning\n",
       "0  AGER_TYP  best-ager typology    -1                     unknown\n",
       "1  AGER_TYP  best-ager typology     0  no classification possible\n",
       "2  AGER_TYP  best-ager typology     1             passive elderly\n",
       "3  AGER_TYP  best-ager typology     2            cultural elderly\n",
       "4  AGER_TYP  best-ager typology     3   experience-driven elderly"
      ]
     },
     "execution_count": 12,
     "metadata": {},
     "output_type": "execute_result"
    }
   ],
   "source": [
    "high_miss_col = list(missing_data[missing_data['% of Total Values']>50].index)\n",
    "high_miss_col\n",
    "\n",
    "ATTR_info[ATTR_info['Attribute'].isin(high_miss_col)]"
   ]
  },
  {
   "cell_type": "code",
   "execution_count": 9,
   "metadata": {
    "ExecuteTime": {
     "end_time": "2020-05-18T01:01:06.215574Z",
     "start_time": "2020-05-18T01:00:55.989381Z"
    },
    "scrolled": true
   },
   "outputs": [
    {
     "data": {
      "text/plain": [
       "(891221, 359)"
      ]
     },
     "execution_count": 9,
     "metadata": {},
     "output_type": "execute_result"
    }
   ],
   "source": [
    "# drop high missing columns and convert missing value to Nans\n",
    "# azdias = azdias[[e for e in azdias.columns if e not in high_miss_col]]\n",
    "azdias.shape\n",
    "\n",
    "azdias = azdias.replace(-1, np.nan)\n"
   ]
  },
  {
   "cell_type": "code",
   "execution_count": 11,
   "metadata": {
    "ExecuteTime": {
     "end_time": "2020-05-18T01:02:44.830514Z",
     "start_time": "2020-05-18T01:02:38.338252Z"
    }
   },
   "outputs": [
    {
     "data": {
      "text/plain": [
       "0.29504129727643313"
      ]
     },
     "execution_count": 11,
     "metadata": {},
     "output_type": "execute_result"
    }
   ],
   "source": [
    "azdias.isnull().sum().max()/azdias.shape[0]"
   ]
  },
  {
   "cell_type": "code",
   "execution_count": 13,
   "metadata": {
    "ExecuteTime": {
     "end_time": "2020-05-18T01:12:46.702276Z",
     "start_time": "2020-05-18T01:12:46.597000Z"
    }
   },
   "outputs": [
    {
     "name": "stdout",
     "output_type": "stream",
     "text": [
      "float64    264\n",
      "int64       89\n",
      "object       6\n",
      "dtype: int64\n"
     ]
    },
    {
     "data": {
      "text/html": [
       "<div>\n",
       "<style scoped>\n",
       "    .dataframe tbody tr th:only-of-type {\n",
       "        vertical-align: middle;\n",
       "    }\n",
       "\n",
       "    .dataframe tbody tr th {\n",
       "        vertical-align: top;\n",
       "    }\n",
       "\n",
       "    .dataframe thead th {\n",
       "        text-align: right;\n",
       "    }\n",
       "</style>\n",
       "<table border=\"1\" class=\"dataframe\">\n",
       "  <thead>\n",
       "    <tr style=\"text-align: right;\">\n",
       "      <th></th>\n",
       "      <th>CAMEO_DEU_2015</th>\n",
       "      <th>CAMEO_DEUG_2015</th>\n",
       "      <th>CAMEO_INTL_2015</th>\n",
       "      <th>D19_LETZTER_KAUF_BRANCHE</th>\n",
       "      <th>EINGEFUEGT_AM</th>\n",
       "      <th>OST_WEST_KZ</th>\n",
       "    </tr>\n",
       "  </thead>\n",
       "  <tbody>\n",
       "    <tr>\n",
       "      <th>0</th>\n",
       "      <td>NaN</td>\n",
       "      <td>NaN</td>\n",
       "      <td>NaN</td>\n",
       "      <td>NaN</td>\n",
       "      <td>NaN</td>\n",
       "      <td>NaN</td>\n",
       "    </tr>\n",
       "    <tr>\n",
       "      <th>1</th>\n",
       "      <td>8A</td>\n",
       "      <td>8</td>\n",
       "      <td>51</td>\n",
       "      <td>NaN</td>\n",
       "      <td>1992-02-10 00:00:00</td>\n",
       "      <td>W</td>\n",
       "    </tr>\n",
       "    <tr>\n",
       "      <th>2</th>\n",
       "      <td>4C</td>\n",
       "      <td>4</td>\n",
       "      <td>24</td>\n",
       "      <td>D19_UNBEKANNT</td>\n",
       "      <td>1992-02-12 00:00:00</td>\n",
       "      <td>W</td>\n",
       "    </tr>\n",
       "    <tr>\n",
       "      <th>3</th>\n",
       "      <td>2A</td>\n",
       "      <td>2</td>\n",
       "      <td>12</td>\n",
       "      <td>D19_UNBEKANNT</td>\n",
       "      <td>1997-04-21 00:00:00</td>\n",
       "      <td>W</td>\n",
       "    </tr>\n",
       "    <tr>\n",
       "      <th>4</th>\n",
       "      <td>6B</td>\n",
       "      <td>6</td>\n",
       "      <td>43</td>\n",
       "      <td>D19_SCHUHE</td>\n",
       "      <td>1992-02-12 00:00:00</td>\n",
       "      <td>W</td>\n",
       "    </tr>\n",
       "  </tbody>\n",
       "</table>\n",
       "</div>"
      ],
      "text/plain": [
       "  CAMEO_DEU_2015 CAMEO_DEUG_2015 CAMEO_INTL_2015 D19_LETZTER_KAUF_BRANCHE  \\\n",
       "0            NaN             NaN             NaN                      NaN   \n",
       "1             8A               8              51                      NaN   \n",
       "2             4C               4              24            D19_UNBEKANNT   \n",
       "3             2A               2              12            D19_UNBEKANNT   \n",
       "4             6B               6              43               D19_SCHUHE   \n",
       "\n",
       "         EINGEFUEGT_AM OST_WEST_KZ  \n",
       "0                  NaN         NaN  \n",
       "1  1992-02-10 00:00:00           W  \n",
       "2  1992-02-12 00:00:00           W  \n",
       "3  1997-04-21 00:00:00           W  \n",
       "4  1992-02-12 00:00:00           W  "
      ]
     },
     "execution_count": 13,
     "metadata": {},
     "output_type": "execute_result"
    }
   ],
   "source": [
    "# check categorical variables\n",
    "print(azdias.dtypes.value_counts())\n",
    "cat_vars = [e for e in azdias.columns if azdias[e].dtypes == 'object']\n",
    "azdias[cat_vars].head()"
   ]
  },
  {
   "cell_type": "code",
   "execution_count": 15,
   "metadata": {
    "ExecuteTime": {
     "end_time": "2020-05-18T01:24:26.177050Z",
     "start_time": "2020-05-18T01:24:25.537350Z"
    }
   },
   "outputs": [
    {
     "name": "stdout",
     "output_type": "stream",
     "text": [
      "CAMEO_DEU_2015 -- number of unique values: 45\n",
      "CAMEO_DEUG_2015 -- number of unique values: 19\n",
      "CAMEO_INTL_2015 -- number of unique values: 43\n",
      "D19_LETZTER_KAUF_BRANCHE -- number of unique values: 35\n",
      "EINGEFUEGT_AM -- number of unique values: 5162\n",
      "OST_WEST_KZ -- number of unique values: 2\n"
     ]
    }
   ],
   "source": [
    "for e in cat_vars:\n",
    "    print(e, '-- number of unique values:', azdias[e].nunique())"
   ]
  },
  {
   "cell_type": "code",
   "execution_count": 40,
   "metadata": {
    "ExecuteTime": {
     "end_time": "2020-05-18T16:59:29.881048Z",
     "start_time": "2020-05-18T16:59:29.845955Z"
    }
   },
   "outputs": [
    {
     "data": {
      "text/html": [
       "<div>\n",
       "<style scoped>\n",
       "    .dataframe tbody tr th:only-of-type {\n",
       "        vertical-align: middle;\n",
       "    }\n",
       "\n",
       "    .dataframe tbody tr th {\n",
       "        vertical-align: top;\n",
       "    }\n",
       "\n",
       "    .dataframe thead th {\n",
       "        text-align: right;\n",
       "    }\n",
       "</style>\n",
       "<table border=\"1\" class=\"dataframe\">\n",
       "  <thead>\n",
       "    <tr style=\"text-align: right;\">\n",
       "      <th></th>\n",
       "      <th>Information level</th>\n",
       "      <th>Attribute</th>\n",
       "      <th>Description</th>\n",
       "      <th>Additional notes</th>\n",
       "    </tr>\n",
       "  </thead>\n",
       "  <tbody>\n",
       "    <tr>\n",
       "      <th>83</th>\n",
       "      <td>Building</td>\n",
       "      <td>OST_WEST_KZ</td>\n",
       "      <td>flag indicating the former GDR/FRG</td>\n",
       "      <td>NaN</td>\n",
       "    </tr>\n",
       "    <tr>\n",
       "      <th>85</th>\n",
       "      <td>Microcell (RR4_ID)</td>\n",
       "      <td>CAMEO_DEUG_2015</td>\n",
       "      <td>CAMEO_4.0: uppergroup</td>\n",
       "      <td>New German CAMEO Typology established together...</td>\n",
       "    </tr>\n",
       "    <tr>\n",
       "      <th>86</th>\n",
       "      <td>Microcell (RR4_ID)</td>\n",
       "      <td>CAMEO_DEU_2015</td>\n",
       "      <td>CAMEO_4.0: specific group</td>\n",
       "      <td>NaN</td>\n",
       "    </tr>\n",
       "  </tbody>\n",
       "</table>\n",
       "</div>"
      ],
      "text/plain": [
       "     Information level        Attribute                         Description  \\\n",
       "83            Building      OST_WEST_KZ  flag indicating the former GDR/FRG   \n",
       "85  Microcell (RR4_ID)  CAMEO_DEUG_2015               CAMEO_4.0: uppergroup   \n",
       "86  Microcell (RR4_ID)   CAMEO_DEU_2015           CAMEO_4.0: specific group   \n",
       "\n",
       "                                     Additional notes  \n",
       "83                                                NaN  \n",
       "85  New German CAMEO Typology established together...  \n",
       "86                                                NaN  "
      ]
     },
     "execution_count": 40,
     "metadata": {},
     "output_type": "execute_result"
    },
    {
     "data": {
      "text/html": [
       "<div>\n",
       "<style scoped>\n",
       "    .dataframe tbody tr th:only-of-type {\n",
       "        vertical-align: middle;\n",
       "    }\n",
       "\n",
       "    .dataframe tbody tr th {\n",
       "        vertical-align: top;\n",
       "    }\n",
       "\n",
       "    .dataframe thead th {\n",
       "        text-align: right;\n",
       "    }\n",
       "</style>\n",
       "<table border=\"1\" class=\"dataframe\">\n",
       "  <thead>\n",
       "    <tr style=\"text-align: right;\">\n",
       "      <th></th>\n",
       "      <th>Attribute</th>\n",
       "      <th>Description</th>\n",
       "      <th>Value</th>\n",
       "      <th>Meaning</th>\n",
       "    </tr>\n",
       "  </thead>\n",
       "  <tbody>\n",
       "    <tr>\n",
       "      <th>51</th>\n",
       "      <td>CAMEO_DEUG_2015</td>\n",
       "      <td>CAMEO classification 2015 - Uppergroup</td>\n",
       "      <td>-1</td>\n",
       "      <td>unknown</td>\n",
       "    </tr>\n",
       "    <tr>\n",
       "      <th>61</th>\n",
       "      <td>CAMEO_DEU_2015</td>\n",
       "      <td>CAMEO classification 2015 - detailled classifi...</td>\n",
       "      <td>1A</td>\n",
       "      <td>Work-Life-Balance</td>\n",
       "    </tr>\n",
       "    <tr>\n",
       "      <th>2013</th>\n",
       "      <td>OST_WEST_KZ</td>\n",
       "      <td>flag indicating the former GDR/FRG</td>\n",
       "      <td>-1</td>\n",
       "      <td>unknown</td>\n",
       "    </tr>\n",
       "  </tbody>\n",
       "</table>\n",
       "</div>"
      ],
      "text/plain": [
       "            Attribute                                        Description  \\\n",
       "51    CAMEO_DEUG_2015             CAMEO classification 2015 - Uppergroup   \n",
       "61     CAMEO_DEU_2015  CAMEO classification 2015 - detailled classifi...   \n",
       "2013      OST_WEST_KZ                 flag indicating the former GDR/FRG   \n",
       "\n",
       "     Value            Meaning  \n",
       "51      -1            unknown  \n",
       "61      1A  Work-Life-Balance  \n",
       "2013    -1            unknown  "
      ]
     },
     "execution_count": 40,
     "metadata": {},
     "output_type": "execute_result"
    }
   ],
   "source": [
    "DIAS_info[DIAS_info['Attribute'].isin(cat_vars)]\n",
    "ATTR_info[ATTR_info['Attribute'].isin(cat_vars)].drop_duplicates(subset=['Attribute'])"
   ]
  },
  {
   "cell_type": "code",
   "execution_count": 17,
   "metadata": {
    "ExecuteTime": {
     "end_time": "2020-05-18T01:30:18.391112Z",
     "start_time": "2020-05-18T01:30:16.392802Z"
    }
   },
   "outputs": [
    {
     "data": {
      "text/plain": [
       "5"
      ]
     },
     "execution_count": 17,
     "metadata": {},
     "output_type": "execute_result"
    }
   ],
   "source": [
    "# we will drop EINGEFUEGT_AM as it's time_id and there are too many unique values \n",
    "# we will also drop LNR as we already know it's an ID column\n",
    "azdias = azdias.drop(columns=['EINGEFUEGT_AM', 'LNR'])\n",
    "cat_vars = [e for e in cat_vars if e != 'EINGEFUEGT_AM']\n",
    "len(cat_vars)"
   ]
  },
  {
   "cell_type": "code",
   "execution_count": 32,
   "metadata": {
    "ExecuteTime": {
     "end_time": "2020-05-18T15:00:58.411678Z",
     "start_time": "2020-05-18T15:00:58.404657Z"
    }
   },
   "outputs": [
    {
     "data": {
      "text/plain": [
       "['CAMEO_DEU_2015',\n",
       " 'CAMEO_DEUG_2015',\n",
       " 'CAMEO_INTL_2015',\n",
       " 'D19_LETZTER_KAUF_BRANCHE',\n",
       " 'OST_WEST_KZ']"
      ]
     },
     "execution_count": 32,
     "metadata": {},
     "output_type": "execute_result"
    }
   ],
   "source": [
    "cat_vars"
   ]
  },
  {
   "cell_type": "code",
   "execution_count": 21,
   "metadata": {
    "ExecuteTime": {
     "end_time": "2020-05-18T01:40:50.588026Z",
     "start_time": "2020-05-18T01:40:50.226048Z"
    }
   },
   "outputs": [
    {
     "data": {
      "text/plain": [
       "W    629528\n",
       "O    168545\n",
       "Name: OST_WEST_KZ, dtype: int64"
      ]
     },
     "execution_count": 21,
     "metadata": {},
     "output_type": "execute_result"
    }
   ],
   "source": [
    "# above we know that OST_WEST_KZ only have two unique values, thus can be encoded simply:\n",
    "azdias['OST_WEST_KZ'].value_counts()\n",
    "azdias['OST_WEST_KZ'] = azdias['OST_WEST_KZ'].replace({'W':1.0, 'O':2.0})"
   ]
  },
  {
   "cell_type": "code",
   "execution_count": 22,
   "metadata": {
    "ExecuteTime": {
     "end_time": "2020-05-18T01:41:28.745396Z",
     "start_time": "2020-05-18T01:41:19.277219Z"
    }
   },
   "outputs": [
    {
     "data": {
      "text/plain": [
       "(891221, 495)"
      ]
     },
     "execution_count": 22,
     "metadata": {},
     "output_type": "execute_result"
    }
   ],
   "source": [
    "# encode other catogorical values\n",
    "azdias_code = pd.get_dummies(azdias, columns=[e for e in cat_vars if e != 'OST_WEST_KZ'])\n",
    "azdias_code.shape"
   ]
  },
  {
   "cell_type": "markdown",
   "metadata": {},
   "source": [
    "## impute for missing value"
   ]
  },
  {
   "cell_type": "code",
   "execution_count": 62,
   "metadata": {
    "ExecuteTime": {
     "end_time": "2020-05-18T18:40:06.793265Z",
     "start_time": "2020-05-18T18:40:06.781232Z"
    }
   },
   "outputs": [
    {
     "data": {
      "text/plain": [
       "['ANZ_HAUSHALTE_AKTIV',\n",
       " 'ANZ_HH_TITEL',\n",
       " 'ANZ_PERSONEN',\n",
       " 'ANZ_TITEL',\n",
       " 'GEBURTSJAHR',\n",
       " 'KBA13_ANZAHL_PKW',\n",
       " 'MIN_GEBAEUDEJAHR']"
      ]
     },
     "execution_count": 62,
     "metadata": {},
     "output_type": "execute_result"
    }
   ],
   "source": [
    "# get numerical value features\n",
    "num_col = list(ATTR_info[ATTR_info['Meaning'].apply(lambda x: 'numeric' in str(x))]['Attribute'])\n",
    "num_col"
   ]
  },
  {
   "cell_type": "markdown",
   "metadata": {},
   "source": [
    "## combine all previous step to preprocess function "
   ]
  },
  {
   "cell_type": "code",
   "execution_count": 5,
   "metadata": {
    "ExecuteTime": {
     "end_time": "2020-05-19T13:16:48.129702Z",
     "start_time": "2020-05-19T13:16:48.118674Z"
    },
    "code_folding": [
     2
    ]
   },
   "outputs": [],
   "source": [
    "def preprocess_arvato(df):\n",
    "    \"\"\"\n",
    "    perform preprocess steps for removing high missing columns, re-coding categorical features, extra columns removing\n",
    "    \"\"\"\n",
    "    \n",
    "    #drop high missing columns and some additional columns:\n",
    "    high_miss_col = ['ALTER_KIND4',\n",
    "                     'ALTER_KIND3',\n",
    "                     'ALTER_KIND2',\n",
    "                     'ALTER_KIND1',\n",
    "                     'AGER_TYP',\n",
    "                     'EXTSEL992',\n",
    "                     'KK_KUNDENTYP']\n",
    "    other_drop_col = ['LNR', 'EINGEFUEGT_AM']\n",
    "    drops = high_miss_col + other_drop_col\n",
    "    \n",
    "    df1 = df[[e for e in df.columns if e not in drops ]]\n",
    "    \n",
    "    # special encoding for OST_WEST_KZ\n",
    "    df1['OST_WEST_KZ'] = df1['OST_WEST_KZ'].replace({'W':1.0, 'O':2.0})\n",
    "    \n",
    "    # encode other catogorical values\n",
    "    cat_vars = ['CAMEO_DEU_2015',\n",
    "                 'CAMEO_DEUG_2015',\n",
    "                 'CAMEO_INTL_2015',\n",
    "                 'D19_LETZTER_KAUF_BRANCHE']\n",
    "    df1 = pd.get_dummies(df1, columns=cat_vars)\n",
    "     \n",
    "    return df1"
   ]
  },
  {
   "cell_type": "code",
   "execution_count": 158,
   "metadata": {
    "ExecuteTime": {
     "end_time": "2020-05-19T20:48:09.862737Z",
     "start_time": "2020-05-19T20:48:09.858727Z"
    }
   },
   "outputs": [],
   "source": [
    "azdias_pp = preprocess_arvato(azdias)"
   ]
  },
  {
   "cell_type": "code",
   "execution_count": 37,
   "metadata": {
    "ExecuteTime": {
     "end_time": "2020-05-18T15:14:34.682948Z",
     "start_time": "2020-05-18T15:14:34.676932Z"
    }
   },
   "outputs": [
    {
     "data": {
      "text/plain": [
       "True"
      ]
     },
     "execution_count": 37,
     "metadata": {},
     "output_type": "execute_result"
    }
   ],
   "source": [
    "azdias_pp.shape == azdias_code.shape"
   ]
  },
  {
   "cell_type": "markdown",
   "metadata": {},
   "source": [
    "# Part 1: Customer Segmentation Report\n",
    "\n",
    "The main bulk of your analysis will come in this part of the project. Here, you should use unsupervised learning techniques to describe the relationship between the demographics of the company's existing customers and the general population of Germany. By the end of this part, you should be able to describe parts of the general population that are more likely to be part of the mail-order company's main customer base, and which parts of the general population are less so."
   ]
  },
  {
   "cell_type": "markdown",
   "metadata": {},
   "source": [
    "In order to do some customer segmentation, these steps will be run:\n",
    "1. preprocess using the above funcion\n",
    "2. impute missing value with mean\n",
    "3. feature scalling "
   ]
  },
  {
   "cell_type": "code",
   "execution_count": 2,
   "metadata": {
    "ExecuteTime": {
     "end_time": "2020-05-19T13:15:11.467501Z",
     "start_time": "2020-05-19T13:14:12.833716Z"
    }
   },
   "outputs": [],
   "source": [
    "azdias = pd.read_csv('../data_Arvato/Udacity_AZDIAS_052018.csv')"
   ]
  },
  {
   "cell_type": "code",
   "execution_count": 3,
   "metadata": {
    "ExecuteTime": {
     "end_time": "2020-05-19T13:16:38.018643Z",
     "start_time": "2020-05-19T13:16:38.013628Z"
    }
   },
   "outputs": [],
   "source": [
    "imputer = Imputer(missing_values='NaN',strategy='mean')\n",
    "scaler = StandardScaler()\n",
    "\n",
    "azdias_pp = preprocess_arvato(azdias)\n",
    "azdias_imp = imputer.fit_transform(azdias_pp)\n",
    "azdias_sca = scaler.fit_transform(azdias_imp)"
   ]
  },
  {
   "cell_type": "code",
   "execution_count": 103,
   "metadata": {
    "ExecuteTime": {
     "end_time": "2020-05-19T03:21:09.901062Z",
     "start_time": "2020-05-19T03:21:09.897052Z"
    }
   },
   "outputs": [],
   "source": [
    "del azdias_pp, azdias_imp, azdias_code"
   ]
  },
  {
   "cell_type": "markdown",
   "metadata": {},
   "source": [
    "## PCA analysis"
   ]
  },
  {
   "cell_type": "markdown",
   "metadata": {},
   "source": [
    "Dimensional reduction is one of the most popular way of displaying higher number of dimensions, and priciple component analysis is the most usual method for dimension reduction"
   ]
  },
  {
   "cell_type": "code",
   "execution_count": 103,
   "metadata": {
    "ExecuteTime": {
     "end_time": "2020-05-19T18:02:19.604610Z",
     "start_time": "2020-05-19T17:58:18.168125Z"
    }
   },
   "outputs": [
    {
     "name": "stdout",
     "output_type": "stream",
     "text": [
      "(891221, 300)\n"
     ]
    }
   ],
   "source": [
    "# try PCA with 100 dimension\n",
    "pca = PCA(n_components=300)\n",
    "azdias_pca = pca.fit_transform(azdias_sca)\n",
    "print(azdias_pca.shape)"
   ]
  },
  {
   "cell_type": "markdown",
   "metadata": {},
   "source": [
    "### PCA Model Attributes\n",
    "\n",
    "Three types of model attributes are contained within the PCA model.\n",
    "\n",
    "* **mean**: The mean that was subtracted from a component in order to center it.\n",
    "* **v**: The makeup of the principal components; (same as ‘components_’ in an sklearn PCA model).\n",
    "* **s**: The singular values of the components for the PCA transformation. This does not exactly give the % variance from the original feature space, but can give the % variance from the projected feature space.\n",
    "    \n",
    "We are only interested in v and s. "
   ]
  },
  {
   "cell_type": "code",
   "execution_count": 17,
   "metadata": {
    "ExecuteTime": {
     "end_time": "2020-05-19T14:16:12.156083Z",
     "start_time": "2020-05-19T14:16:11.260972Z"
    },
    "code_folding": []
   },
   "outputs": [
    {
     "name": "stdout",
     "output_type": "stream",
     "text": [
      "total explained variance:  0.9519853386987012\n",
      "top 150 components explained variance:  0.7568318605451128\n"
     ]
    },
    {
     "data": {
      "image/png": "[encoded data removed]",
      "text/plain": [
       "<Figure size 720x432 with 1 Axes>"
      ]
     },
     "metadata": {
      "needs_background": "light"
     },
     "output_type": "display_data"
    }
   ],
   "source": [
    "# check the percent of variance explained by each principal component.\n",
    "InteractiveShell.ast_node_interactivity = \"last_expr\"\n",
    "\n",
    "print('total explained variance: ',sum(pca.explained_variance_ratio_))\n",
    "print('top 150 components explained variance: ',sum(pca.explained_variance_ratio_[0:150]))\n",
    "\n",
    "ind = np.arange(300)\n",
    "vals = pca.explained_variance_ratio_\n",
    "\n",
    "plt.figure(figsize=(10, 6))\n",
    "ax = plt.subplot()\n",
    "cumvals = np.cumsum(vals)\n",
    "ax.bar(ind, vals)\n",
    "ax.plot(ind, cumvals)\n",
    "for i in range(300):\n",
    "    ax.xaxis.set_tick_params(width=0)\n",
    "    ax.yaxis.set_tick_params(width=2, length=12)\n",
    "\n",
    "    ax.set_xlabel(\"Principal Component\")\n",
    "    ax.set_ylabel(\"Variance Explained (%)\")\n",
    "    plt.title('Explained Variance Per Principal Component');"
   ]
  },
  {
   "cell_type": "markdown",
   "metadata": {
    "ExecuteTime": {
     "end_time": "2020-05-19T14:07:14.858204Z",
     "start_time": "2020-05-19T14:07:14.845165Z"
    }
   },
   "source": [
    "### Pinciple Components Interpretation"
   ]
  },
  {
   "cell_type": "code",
   "execution_count": 20,
   "metadata": {
    "ExecuteTime": {
     "end_time": "2020-05-19T14:40:53.906239Z",
     "start_time": "2020-05-19T14:40:53.901226Z"
    }
   },
   "outputs": [
    {
     "data": {
      "text/plain": [
       "(300, 495)"
      ]
     },
     "execution_count": 20,
     "metadata": {},
     "output_type": "execute_result"
    }
   ],
   "source": [
    "pca.components_.shape"
   ]
  },
  {
   "cell_type": "code",
   "execution_count": 28,
   "metadata": {
    "ExecuteTime": {
     "end_time": "2020-05-19T15:21:59.753871Z",
     "start_time": "2020-05-19T15:21:59.716771Z"
    }
   },
   "outputs": [
    {
     "data": {
      "text/html": [
       "<div>\n",
       "<style scoped>\n",
       "    .dataframe tbody tr th:only-of-type {\n",
       "        vertical-align: middle;\n",
       "    }\n",
       "\n",
       "    .dataframe tbody tr th {\n",
       "        vertical-align: top;\n",
       "    }\n",
       "\n",
       "    .dataframe thead th {\n",
       "        text-align: right;\n",
       "    }\n",
       "</style>\n",
       "<table border=\"1\" class=\"dataframe\">\n",
       "  <thead>\n",
       "    <tr style=\"text-align: right;\">\n",
       "      <th></th>\n",
       "      <th>CP1</th>\n",
       "      <th>CP2</th>\n",
       "      <th>CP3</th>\n",
       "      <th>CP4</th>\n",
       "      <th>CP5</th>\n",
       "      <th>CP6</th>\n",
       "      <th>CP7</th>\n",
       "      <th>CP8</th>\n",
       "      <th>CP9</th>\n",
       "      <th>CP10</th>\n",
       "      <th>...</th>\n",
       "      <th>CP291</th>\n",
       "      <th>CP292</th>\n",
       "      <th>CP293</th>\n",
       "      <th>CP294</th>\n",
       "      <th>CP295</th>\n",
       "      <th>CP296</th>\n",
       "      <th>CP297</th>\n",
       "      <th>CP298</th>\n",
       "      <th>CP299</th>\n",
       "      <th>CP300</th>\n",
       "    </tr>\n",
       "  </thead>\n",
       "  <tbody>\n",
       "    <tr>\n",
       "      <th>AKT_DAT_KL</th>\n",
       "      <td>0.0688</td>\n",
       "      <td>-0.0050</td>\n",
       "      <td>-0.0189</td>\n",
       "      <td>0.0067</td>\n",
       "      <td>-0.0926</td>\n",
       "      <td>0.0182</td>\n",
       "      <td>0.0141</td>\n",
       "      <td>0.0108</td>\n",
       "      <td>-0.0514</td>\n",
       "      <td>-0.0143</td>\n",
       "      <td>...</td>\n",
       "      <td>0.0232</td>\n",
       "      <td>-0.0627</td>\n",
       "      <td>0.0036</td>\n",
       "      <td>-0.0347</td>\n",
       "      <td>-0.0547</td>\n",
       "      <td>-0.0242</td>\n",
       "      <td>0.0406</td>\n",
       "      <td>-0.0806</td>\n",
       "      <td>-0.0013</td>\n",
       "      <td>-0.0437</td>\n",
       "    </tr>\n",
       "    <tr>\n",
       "      <th>ALTER_HH</th>\n",
       "      <td>-0.0533</td>\n",
       "      <td>-0.0104</td>\n",
       "      <td>0.0861</td>\n",
       "      <td>0.0022</td>\n",
       "      <td>-0.0296</td>\n",
       "      <td>0.0055</td>\n",
       "      <td>-0.0028</td>\n",
       "      <td>0.0110</td>\n",
       "      <td>-0.0058</td>\n",
       "      <td>0.0072</td>\n",
       "      <td>...</td>\n",
       "      <td>0.0052</td>\n",
       "      <td>0.0363</td>\n",
       "      <td>0.0313</td>\n",
       "      <td>0.0554</td>\n",
       "      <td>0.0559</td>\n",
       "      <td>-0.0385</td>\n",
       "      <td>-0.0015</td>\n",
       "      <td>0.0140</td>\n",
       "      <td>0.0094</td>\n",
       "      <td>0.0280</td>\n",
       "    </tr>\n",
       "    <tr>\n",
       "      <th>ALTERSKATEGORIE_FEIN</th>\n",
       "      <td>-0.0047</td>\n",
       "      <td>-0.0191</td>\n",
       "      <td>0.1029</td>\n",
       "      <td>0.0097</td>\n",
       "      <td>-0.1364</td>\n",
       "      <td>0.0317</td>\n",
       "      <td>0.0021</td>\n",
       "      <td>0.0230</td>\n",
       "      <td>-0.0287</td>\n",
       "      <td>-0.0146</td>\n",
       "      <td>...</td>\n",
       "      <td>0.0380</td>\n",
       "      <td>0.0061</td>\n",
       "      <td>-0.0755</td>\n",
       "      <td>0.0381</td>\n",
       "      <td>0.0393</td>\n",
       "      <td>0.0185</td>\n",
       "      <td>-0.0401</td>\n",
       "      <td>0.2244</td>\n",
       "      <td>-0.0324</td>\n",
       "      <td>0.0855</td>\n",
       "    </tr>\n",
       "  </tbody>\n",
       "</table>\n",
       "<p>3 rows × 300 columns</p>\n",
       "</div>"
      ],
      "text/plain": [
       "                         CP1     CP2     CP3     CP4     CP5     CP6     CP7  \\\n",
       "AKT_DAT_KL            0.0688 -0.0050 -0.0189  0.0067 -0.0926  0.0182  0.0141   \n",
       "ALTER_HH             -0.0533 -0.0104  0.0861  0.0022 -0.0296  0.0055 -0.0028   \n",
       "ALTERSKATEGORIE_FEIN -0.0047 -0.0191  0.1029  0.0097 -0.1364  0.0317  0.0021   \n",
       "\n",
       "                         CP8     CP9    CP10   ...     CP291   CP292   CP293  \\\n",
       "AKT_DAT_KL            0.0108 -0.0514 -0.0143   ...    0.0232 -0.0627  0.0036   \n",
       "ALTER_HH              0.0110 -0.0058  0.0072   ...    0.0052  0.0363  0.0313   \n",
       "ALTERSKATEGORIE_FEIN  0.0230 -0.0287 -0.0146   ...    0.0380  0.0061 -0.0755   \n",
       "\n",
       "                       CP294   CP295   CP296   CP297   CP298   CP299   CP300  \n",
       "AKT_DAT_KL           -0.0347 -0.0547 -0.0242  0.0406 -0.0806 -0.0013 -0.0437  \n",
       "ALTER_HH              0.0554  0.0559 -0.0385 -0.0015  0.0140  0.0094  0.0280  \n",
       "ALTERSKATEGORIE_FEIN  0.0381  0.0393  0.0185 -0.0401  0.2244 -0.0324  0.0855  \n",
       "\n",
       "[3 rows x 300 columns]"
      ]
     },
     "execution_count": 28,
     "metadata": {},
     "output_type": "execute_result"
    }
   ],
   "source": [
    "# Map weights for the first principal component to corresponding feature names\n",
    "\n",
    "dimensions = ['CP{}'.format(i) for i in range(1,len(pca.components_)+1)]\n",
    "\n",
    "# PCA components\n",
    "PCA_CP = pd.DataFrame(np.round(pca.components_, 4), columns = azdias_pp.columns).T\n",
    "PCA_CP.columns = dimensions\n",
    "components.head(3)"
   ]
  },
  {
   "cell_type": "code",
   "execution_count": 46,
   "metadata": {
    "ExecuteTime": {
     "end_time": "2020-05-19T15:44:51.783291Z",
     "start_time": "2020-05-19T15:44:51.747198Z"
    }
   },
   "outputs": [],
   "source": [
    "DIAS_info = pd.read_excel('DIAS Information Levels - Attributes 2017.xlsx')\n",
    "DIAS_info = DIAS_info.reset_index(drop=True)"
   ]
  },
  {
   "cell_type": "code",
   "execution_count": 58,
   "metadata": {
    "ExecuteTime": {
     "end_time": "2020-05-19T15:55:07.286273Z",
     "start_time": "2020-05-19T15:55:07.244160Z"
    }
   },
   "outputs": [
    {
     "data": {
      "text/html": [
       "<div>\n",
       "<style scoped>\n",
       "    .dataframe tbody tr th:only-of-type {\n",
       "        vertical-align: middle;\n",
       "    }\n",
       "\n",
       "    .dataframe tbody tr th {\n",
       "        vertical-align: top;\n",
       "    }\n",
       "\n",
       "    .dataframe thead th {\n",
       "        text-align: right;\n",
       "    }\n",
       "</style>\n",
       "<table border=\"1\" class=\"dataframe\">\n",
       "  <thead>\n",
       "    <tr style=\"text-align: right;\">\n",
       "      <th></th>\n",
       "      <th>CP1_feature</th>\n",
       "      <th>CP1</th>\n",
       "      <th>CP2_feature</th>\n",
       "      <th>CP2</th>\n",
       "      <th>CP3_feature</th>\n",
       "      <th>CP3</th>\n",
       "    </tr>\n",
       "  </thead>\n",
       "  <tbody>\n",
       "    <tr>\n",
       "      <th>0</th>\n",
       "      <td>PLZ8_ANTG3</td>\n",
       "      <td>0.1229</td>\n",
       "      <td>KBA05_SEG6</td>\n",
       "      <td>0.1780</td>\n",
       "      <td>D19_GESAMT_ANZ_24</td>\n",
       "      <td>0.1519</td>\n",
       "    </tr>\n",
       "    <tr>\n",
       "      <th>1</th>\n",
       "      <td>KBA13_ANTG3</td>\n",
       "      <td>0.1228</td>\n",
       "      <td>KBA05_KRSOBER</td>\n",
       "      <td>0.1630</td>\n",
       "      <td>ONLINE_AFFINITAET</td>\n",
       "      <td>0.1434</td>\n",
       "    </tr>\n",
       "    <tr>\n",
       "      <th>2</th>\n",
       "      <td>KBA13_ANTG4</td>\n",
       "      <td>0.1203</td>\n",
       "      <td>KBA05_KRSVAN</td>\n",
       "      <td>0.1605</td>\n",
       "      <td>D19_GESAMT_ANZ_12</td>\n",
       "      <td>0.1432</td>\n",
       "    </tr>\n",
       "    <tr>\n",
       "      <th>3</th>\n",
       "      <td>KBA13_ANTG1</td>\n",
       "      <td>-0.1235</td>\n",
       "      <td>PLZ8_ANTG3</td>\n",
       "      <td>-0.0367</td>\n",
       "      <td>D19_VERSAND_ONLINE_DATUM</td>\n",
       "      <td>-0.1427</td>\n",
       "    </tr>\n",
       "    <tr>\n",
       "      <th>4</th>\n",
       "      <td>PLZ8_ANTG1</td>\n",
       "      <td>-0.1238</td>\n",
       "      <td>KBA13_ANTG3</td>\n",
       "      <td>-0.0367</td>\n",
       "      <td>D19_GESAMT_DATUM</td>\n",
       "      <td>-0.1435</td>\n",
       "    </tr>\n",
       "    <tr>\n",
       "      <th>5</th>\n",
       "      <td>MOBI_REGIO</td>\n",
       "      <td>-0.1289</td>\n",
       "      <td>KBA05_ANTG3</td>\n",
       "      <td>-0.0392</td>\n",
       "      <td>D19_GESAMT_ONLINE_DATUM</td>\n",
       "      <td>-0.1480</td>\n",
       "    </tr>\n",
       "  </tbody>\n",
       "</table>\n",
       "</div>"
      ],
      "text/plain": [
       "   CP1_feature     CP1    CP2_feature     CP2               CP3_feature  \\\n",
       "0   PLZ8_ANTG3  0.1229     KBA05_SEG6  0.1780         D19_GESAMT_ANZ_24   \n",
       "1  KBA13_ANTG3  0.1228  KBA05_KRSOBER  0.1630         ONLINE_AFFINITAET   \n",
       "2  KBA13_ANTG4  0.1203   KBA05_KRSVAN  0.1605         D19_GESAMT_ANZ_12   \n",
       "3  KBA13_ANTG1 -0.1235     PLZ8_ANTG3 -0.0367  D19_VERSAND_ONLINE_DATUM   \n",
       "4   PLZ8_ANTG1 -0.1238    KBA13_ANTG3 -0.0367          D19_GESAMT_DATUM   \n",
       "5   MOBI_REGIO -0.1289    KBA05_ANTG3 -0.0392   D19_GESAMT_ONLINE_DATUM   \n",
       "\n",
       "      CP3  \n",
       "0  0.1519  \n",
       "1  0.1434  \n",
       "2  0.1432  \n",
       "3 -0.1427  \n",
       "4 -0.1435  \n",
       "5 -0.1480  "
      ]
     },
     "execution_count": 58,
     "metadata": {},
     "output_type": "execute_result"
    }
   ],
   "source": [
    "# aggregate the top 3 and bottom 3 features for first 3 components \n",
    "mycp = pd.concat([pd.concat([pd.DataFrame(PCA_CP['CP1'].sort_values(ascending=False)[:3]),\n",
    "                    pd.DataFrame(PCA_CP['CP1'].sort_values(ascending=False)[-3:])]).reset_index(),\n",
    "                    pd.concat([pd.DataFrame(PCA_CP['CP2'].sort_values(ascending=False)[:3]),\n",
    "                                pd.DataFrame(PCA_CP['CP2'].sort_values(ascending=False)[-3:])]).reset_index(),\n",
    "                    pd.concat([pd.DataFrame(PCA_CP['CP3'].sort_values(ascending=False)[:3]),\n",
    "                                pd.DataFrame(PCA_CP['CP3'].sort_values(ascending=False)[-3:])]).reset_index()],axis=1)\n",
    "mycp.columns = ['CP1_feature', 'CP1','CP2_feature', 'CP2','CP3_feature', 'CP3']\n",
    "mycp"
   ]
  },
  {
   "cell_type": "code",
   "execution_count": 59,
   "metadata": {
    "ExecuteTime": {
     "end_time": "2020-05-19T15:55:08.634903Z",
     "start_time": "2020-05-19T15:55:08.578752Z"
    }
   },
   "outputs": [
    {
     "data": {
      "text/html": [
       "<div>\n",
       "<style scoped>\n",
       "    .dataframe tbody tr th:only-of-type {\n",
       "        vertical-align: middle;\n",
       "    }\n",
       "\n",
       "    .dataframe tbody tr th {\n",
       "        vertical-align: top;\n",
       "    }\n",
       "\n",
       "    .dataframe thead th {\n",
       "        text-align: right;\n",
       "    }\n",
       "</style>\n",
       "<table border=\"1\" class=\"dataframe\">\n",
       "  <thead>\n",
       "    <tr style=\"text-align: right;\">\n",
       "      <th></th>\n",
       "      <th>CP1</th>\n",
       "      <th>CP1_def</th>\n",
       "      <th>CP1_feature</th>\n",
       "      <th>CP2</th>\n",
       "      <th>CP2_def</th>\n",
       "      <th>CP2_feature</th>\n",
       "      <th>CP3</th>\n",
       "      <th>CP3_def</th>\n",
       "      <th>CP3_feature</th>\n",
       "    </tr>\n",
       "  </thead>\n",
       "  <tbody>\n",
       "    <tr>\n",
       "      <th>0</th>\n",
       "      <td>0.1229</td>\n",
       "      <td>number of 6-10 family houses in the PLZ8</td>\n",
       "      <td>PLZ8_ANTG3</td>\n",
       "      <td>0.1780</td>\n",
       "      <td>share of upper class cars (BMW 7er etc.) in th...</td>\n",
       "      <td>KBA05_SEG6</td>\n",
       "      <td>0.1519</td>\n",
       "      <td>NaN</td>\n",
       "      <td>D19_GESAMT_ANZ_24</td>\n",
       "    </tr>\n",
       "    <tr>\n",
       "      <th>1</th>\n",
       "      <td>0.1228</td>\n",
       "      <td>NaN</td>\n",
       "      <td>KBA13_ANTG3</td>\n",
       "      <td>0.1630</td>\n",
       "      <td>share of upper class cars (referred to the cou...</td>\n",
       "      <td>KBA05_KRSOBER</td>\n",
       "      <td>0.1434</td>\n",
       "      <td>online affinity</td>\n",
       "      <td>ONLINE_AFFINITAET</td>\n",
       "    </tr>\n",
       "    <tr>\n",
       "      <th>2</th>\n",
       "      <td>0.1203</td>\n",
       "      <td>NaN</td>\n",
       "      <td>KBA13_ANTG4</td>\n",
       "      <td>0.1605</td>\n",
       "      <td>share of vans (referred to the county average)</td>\n",
       "      <td>KBA05_KRSVAN</td>\n",
       "      <td>0.1432</td>\n",
       "      <td>NaN</td>\n",
       "      <td>D19_GESAMT_ANZ_12</td>\n",
       "    </tr>\n",
       "    <tr>\n",
       "      <th>3</th>\n",
       "      <td>-0.1235</td>\n",
       "      <td>NaN</td>\n",
       "      <td>KBA13_ANTG1</td>\n",
       "      <td>-0.0367</td>\n",
       "      <td>number of 6-10 family houses in the PLZ8</td>\n",
       "      <td>PLZ8_ANTG3</td>\n",
       "      <td>-0.1427</td>\n",
       "      <td>actuality of the last transaction for the segm...</td>\n",
       "      <td>D19_VERSAND_ONLINE_DATUM</td>\n",
       "    </tr>\n",
       "    <tr>\n",
       "      <th>4</th>\n",
       "      <td>-0.1238</td>\n",
       "      <td>number of 1-2 family houses in the PLZ8</td>\n",
       "      <td>PLZ8_ANTG1</td>\n",
       "      <td>-0.0367</td>\n",
       "      <td>NaN</td>\n",
       "      <td>KBA13_ANTG3</td>\n",
       "      <td>-0.1435</td>\n",
       "      <td>actuality of the last transaction with the com...</td>\n",
       "      <td>D19_GESAMT_DATUM</td>\n",
       "    </tr>\n",
       "    <tr>\n",
       "      <th>5</th>\n",
       "      <td>-0.1289</td>\n",
       "      <td>moving patterns</td>\n",
       "      <td>MOBI_REGIO</td>\n",
       "      <td>-0.0392</td>\n",
       "      <td>number of 6-10 family houses in the cell</td>\n",
       "      <td>KBA05_ANTG3</td>\n",
       "      <td>-0.1480</td>\n",
       "      <td>actuality of the last transaction with the com...</td>\n",
       "      <td>D19_GESAMT_ONLINE_DATUM</td>\n",
       "    </tr>\n",
       "  </tbody>\n",
       "</table>\n",
       "</div>"
      ],
      "text/plain": [
       "      CP1                                   CP1_def  CP1_feature     CP2  \\\n",
       "0  0.1229  number of 6-10 family houses in the PLZ8   PLZ8_ANTG3  0.1780   \n",
       "1  0.1228                                       NaN  KBA13_ANTG3  0.1630   \n",
       "2  0.1203                                       NaN  KBA13_ANTG4  0.1605   \n",
       "3 -0.1235                                       NaN  KBA13_ANTG1 -0.0367   \n",
       "4 -0.1238   number of 1-2 family houses in the PLZ8   PLZ8_ANTG1 -0.0367   \n",
       "5 -0.1289                           moving patterns   MOBI_REGIO -0.0392   \n",
       "\n",
       "                                             CP2_def    CP2_feature     CP3  \\\n",
       "0  share of upper class cars (BMW 7er etc.) in th...     KBA05_SEG6  0.1519   \n",
       "1  share of upper class cars (referred to the cou...  KBA05_KRSOBER  0.1434   \n",
       "2     share of vans (referred to the county average)   KBA05_KRSVAN  0.1432   \n",
       "3           number of 6-10 family houses in the PLZ8     PLZ8_ANTG3 -0.1427   \n",
       "4                                                NaN    KBA13_ANTG3 -0.1435   \n",
       "5           number of 6-10 family houses in the cell    KBA05_ANTG3 -0.1480   \n",
       "\n",
       "                                             CP3_def               CP3_feature  \n",
       "0                                                NaN         D19_GESAMT_ANZ_24  \n",
       "1                                    online affinity         ONLINE_AFFINITAET  \n",
       "2                                                NaN         D19_GESAMT_ANZ_12  \n",
       "3  actuality of the last transaction for the segm...  D19_VERSAND_ONLINE_DATUM  \n",
       "4  actuality of the last transaction with the com...          D19_GESAMT_DATUM  \n",
       "5  actuality of the last transaction with the com...   D19_GESAMT_ONLINE_DATUM  "
      ]
     },
     "execution_count": 59,
     "metadata": {},
     "output_type": "execute_result"
    }
   ],
   "source": [
    "# merge with information data to see the definition for each feature\n",
    "CP1_info = DIAS_info[DIAS_info['Attribute'].isin(mycp['CP1_feature'])][['Attribute', 'Description']]\n",
    "CP2_info = DIAS_info[DIAS_info['Attribute'].isin(mycp['CP2_feature'])][['Attribute', 'Description']]\n",
    "CP3_info = DIAS_info[DIAS_info['Attribute'].isin(mycp['CP3_feature'])][['Attribute', 'Description']]\n",
    "mycp = pd.merge(mycp, CP1_info, how='left', \n",
    "                left_on='CP1_feature', \n",
    "                right_on='Attribute').drop(columns=['Attribute']).rename(columns={'Description':'CP1_def'})\n",
    "mycp = pd.merge(mycp, CP2_info, how='left',\n",
    "                left_on='CP2_feature',\n",
    "                right_on='Attribute').drop(columns=['Attribute']).rename(columns={'Description':'CP2_def'})\n",
    "mycp = pd.merge(mycp, CP3_info, how='left', \n",
    "                left_on='CP3_feature', \n",
    "                right_on='Attribute').drop(columns=['Attribute']).rename(columns={'Description':'CP3_def'})\n",
    "mycp = mycp[sorted(mycp.columns)]\n",
    "mycp"
   ]
  },
  {
   "cell_type": "markdown",
   "metadata": {},
   "source": [
    "* **discussions for top 3 dimension important features**"
   ]
  },
  {
   "cell_type": "markdown",
   "metadata": {
    "ExecuteTime": {
     "end_time": "2020-05-19T16:08:00.853781Z",
     "start_time": "2020-05-19T16:08:00.845760Z"
    }
   },
   "source": [
    "* **first dimension**:  <br>\n",
    "    PLZ8_ANTG3 0.1229: number of 6-10 family houses in the PLZ8<br>\n",
    "    KBA13_ANTG3 0.1228: nan<br>\n",
    "    KBA13_ANTG4 0.1203: nan<br>\n",
    "    KBA13_ANTG1 -0.1235: nan<br>\n",
    "    PLZ8_ANTG1 -0.1238: number of 1-2 family houses in the PLZ8<br>\n",
    "    MOBI_REGIO -0.1289: moving patterns<br>\n",
    "* **second dimension**: <br>\n",
    "    KBA05_SEG6 0.178: share of upper class cars (BMW 7er etc.) in the microcell<br>\n",
    "    KBA05_KRSOBER 0.163: share of upper class cars (referred to the county average)<br>\n",
    "    KBA05_KRSVAN 0.1605: share of vans (referred to the county average)<br>\n",
    "    PLZ8_ANTG3 -0.0367: number of 6-10 family houses in the PLZ8<br>\n",
    "    KBA13_ANTG3 -0.0367: nan<br>\n",
    "    KBA05_ANTG3 -0.0392: number of 6-10 family houses in the cell<br>\n",
    "* **third dimension**:<br>\n",
    "    D19_GESAMT_ANZ_24 0.1519 nan<br>\n",
    "    ONLINE_AFFINITAET 0.1434 online affinity<br>\n",
    "    D19_GESAMT_ANZ_12 0.1432 nan<br>\n",
    "    D19_VERSAND_ONLINE_DATUM -0.1427: actuality of the last transaction for the segment mail-order ONLINE<br>\n",
    "    D19_GESAMT_DATUM -0.1435: actuality of the last transaction with the complete file TOTAL<br>\n",
    "    D19_GESAMT_ONLINE_DATUM -0.148: actuality of the last transaction with the complete file ONLINE<br>"
   ]
  },
  {
   "cell_type": "markdown",
   "metadata": {},
   "source": [
    "## K-means analysis"
   ]
  },
  {
   "cell_type": "code",
   "execution_count": 91,
   "metadata": {
    "ExecuteTime": {
     "end_time": "2020-05-19T17:50:35.446087Z",
     "start_time": "2020-05-19T17:47:05.522384Z"
    },
    "scrolled": false
   },
   "outputs": [
    {
     "data": {
      "image/png": "[encoded data removed]",
      "text/plain": [
       "<Figure size 1080x432 with 1 Axes>"
      ]
     },
     "metadata": {
      "needs_background": "light"
     },
     "output_type": "display_data"
    }
   ],
   "source": [
    "# use elbow method to determin what's the number of clusters would be appropriate for our sample\n",
    "\n",
    "scores= []\n",
    "for n in range(1 , 21):\n",
    "    # run k-means clustering on the data and...\n",
    "    kmeans = MiniBatchKMeans(n_clusters=n, random_state=2020)\n",
    "    model = kmeans.fit(azdias_pca)\n",
    "    \n",
    "    # compute the average within-cluster distances.\n",
    "    score = np.abs(model.score(azdias_pca))\n",
    "    scores.append(score)\n",
    "\n",
    "plt.figure(1 , figsize = (15 ,6))\n",
    "ax=plt.subplot()\n",
    "plt.plot(np.arange(1 , 21) , scores , 'o')\n",
    "plt.plot(np.arange(1 , 21) , scores , '-' , alpha = 0.5)\n",
    "plt.xticks(np.arange(1, 21, step=1))\n",
    "plt.xlabel('Number of Clusters') , plt.ylabel('SSE'), plt.title('SSE vs Number of Clusters');"
   ]
  },
  {
   "cell_type": "markdown",
   "metadata": {},
   "source": [
    "**discussion:**\n",
    "\n",
    "    it seems that 16 cluster gives smallest SSE"
   ]
  },
  {
   "cell_type": "code",
   "execution_count": 92,
   "metadata": {
    "ExecuteTime": {
     "end_time": "2020-05-19T17:51:55.609000Z",
     "start_time": "2020-05-19T17:51:46.867509Z"
    }
   },
   "outputs": [],
   "source": [
    "# refit with 16 clusters and get prediction for whole data\n",
    "# Kmeans gives me out of memory error, so I just tried with MiniBatchKmeans\n",
    "kmeans = MiniBatchKMeans(n_clusters=16, random_state=2020)\n",
    "kmeans.fit(azdias_pca)\n",
    "azdias_preds = kmeans.labels_\n",
    "centroids = kmeans.cluster_centers_"
   ]
  },
  {
   "cell_type": "code",
   "execution_count": 93,
   "metadata": {
    "ExecuteTime": {
     "end_time": "2020-05-19T17:51:57.260446Z",
     "start_time": "2020-05-19T17:51:57.240391Z"
    }
   },
   "outputs": [],
   "source": [
    "import pickle\n",
    "pickle.dump(kmeans, open('./minibatchkmeans.bin', 'wb'))"
   ]
  },
  {
   "cell_type": "code",
   "execution_count": 104,
   "metadata": {
    "ExecuteTime": {
     "end_time": "2020-05-19T18:05:22.748479Z",
     "start_time": "2020-05-19T18:05:22.657235Z"
    }
   },
   "outputs": [
    {
     "data": {
      "text/html": [
       "<div>\n",
       "<style scoped>\n",
       "    .dataframe tbody tr th:only-of-type {\n",
       "        vertical-align: middle;\n",
       "    }\n",
       "\n",
       "    .dataframe tbody tr th {\n",
       "        vertical-align: top;\n",
       "    }\n",
       "\n",
       "    .dataframe thead th {\n",
       "        text-align: right;\n",
       "    }\n",
       "</style>\n",
       "<table border=\"1\" class=\"dataframe\">\n",
       "  <thead>\n",
       "    <tr style=\"text-align: right;\">\n",
       "      <th></th>\n",
       "      <th>Group</th>\n",
       "      <th>Count</th>\n",
       "      <th>percent</th>\n",
       "    </tr>\n",
       "  </thead>\n",
       "  <tbody>\n",
       "    <tr>\n",
       "      <th>0</th>\n",
       "      <td>5</td>\n",
       "      <td>165963</td>\n",
       "      <td>18.6</td>\n",
       "    </tr>\n",
       "    <tr>\n",
       "      <th>1</th>\n",
       "      <td>8</td>\n",
       "      <td>158383</td>\n",
       "      <td>17.8</td>\n",
       "    </tr>\n",
       "    <tr>\n",
       "      <th>2</th>\n",
       "      <td>14</td>\n",
       "      <td>141584</td>\n",
       "      <td>15.9</td>\n",
       "    </tr>\n",
       "    <tr>\n",
       "      <th>3</th>\n",
       "      <td>2</td>\n",
       "      <td>135083</td>\n",
       "      <td>15.2</td>\n",
       "    </tr>\n",
       "    <tr>\n",
       "      <th>4</th>\n",
       "      <td>9</td>\n",
       "      <td>74423</td>\n",
       "      <td>8.4</td>\n",
       "    </tr>\n",
       "  </tbody>\n",
       "</table>\n",
       "</div>"
      ],
      "text/plain": [
       "   Group   Count  percent\n",
       "0      5  165963     18.6\n",
       "1      8  158383     17.8\n",
       "2     14  141584     15.9\n",
       "3      2  135083     15.2\n",
       "4      9   74423      8.4"
      ]
     },
     "execution_count": 104,
     "metadata": {},
     "output_type": "execute_result"
    }
   ],
   "source": [
    "# centroids.shape  #(16, 495)\n",
    "# len(azdias_preds) # 891221\n",
    "# PCA_CP.shape #(495, 300)\n",
    "azdias_cluster = pd.DataFrame(np.round(azdias_pca, 4), columns = dimensions)\n",
    "azdias_cluster['cluster'] = azdias_preds\n",
    "general_cluster_count = groupcount(azdias_cluster['cluster'])\n",
    "general_cluster_count.head(5)"
   ]
  },
  {
   "cell_type": "markdown",
   "metadata": {},
   "source": [
    "## segment Customer data"
   ]
  },
  {
   "cell_type": "code",
   "execution_count": 75,
   "metadata": {
    "ExecuteTime": {
     "end_time": "2020-05-19T17:09:16.045157Z",
     "start_time": "2020-05-19T17:09:16.007053Z"
    }
   },
   "outputs": [
    {
     "name": "stdout",
     "output_type": "stream",
     "text": [
      "(191652, 369)\n"
     ]
    },
    {
     "data": {
      "text/html": [
       "<div>\n",
       "<style scoped>\n",
       "    .dataframe tbody tr th:only-of-type {\n",
       "        vertical-align: middle;\n",
       "    }\n",
       "\n",
       "    .dataframe tbody tr th {\n",
       "        vertical-align: top;\n",
       "    }\n",
       "\n",
       "    .dataframe thead th {\n",
       "        text-align: right;\n",
       "    }\n",
       "</style>\n",
       "<table border=\"1\" class=\"dataframe\">\n",
       "  <thead>\n",
       "    <tr style=\"text-align: right;\">\n",
       "      <th></th>\n",
       "      <th>LNR</th>\n",
       "      <th>AGER_TYP</th>\n",
       "      <th>AKT_DAT_KL</th>\n",
       "      <th>ALTER_HH</th>\n",
       "      <th>ALTER_KIND1</th>\n",
       "      <th>ALTER_KIND2</th>\n",
       "      <th>ALTER_KIND3</th>\n",
       "      <th>ALTER_KIND4</th>\n",
       "      <th>ALTERSKATEGORIE_FEIN</th>\n",
       "      <th>ANZ_HAUSHALTE_AKTIV</th>\n",
       "      <th>...</th>\n",
       "      <th>VK_ZG11</th>\n",
       "      <th>W_KEIT_KIND_HH</th>\n",
       "      <th>WOHNDAUER_2008</th>\n",
       "      <th>WOHNLAGE</th>\n",
       "      <th>ZABEOTYP</th>\n",
       "      <th>PRODUCT_GROUP</th>\n",
       "      <th>CUSTOMER_GROUP</th>\n",
       "      <th>ONLINE_PURCHASE</th>\n",
       "      <th>ANREDE_KZ</th>\n",
       "      <th>ALTERSKATEGORIE_GROB</th>\n",
       "    </tr>\n",
       "  </thead>\n",
       "  <tbody>\n",
       "    <tr>\n",
       "      <th>0</th>\n",
       "      <td>9626</td>\n",
       "      <td>2</td>\n",
       "      <td>1.0</td>\n",
       "      <td>10.0</td>\n",
       "      <td>NaN</td>\n",
       "      <td>NaN</td>\n",
       "      <td>NaN</td>\n",
       "      <td>NaN</td>\n",
       "      <td>10.0</td>\n",
       "      <td>1.0</td>\n",
       "      <td>...</td>\n",
       "      <td>2.0</td>\n",
       "      <td>6.0</td>\n",
       "      <td>9.0</td>\n",
       "      <td>7.0</td>\n",
       "      <td>3</td>\n",
       "      <td>COSMETIC_AND_FOOD</td>\n",
       "      <td>MULTI_BUYER</td>\n",
       "      <td>0</td>\n",
       "      <td>1</td>\n",
       "      <td>4</td>\n",
       "    </tr>\n",
       "    <tr>\n",
       "      <th>1</th>\n",
       "      <td>9628</td>\n",
       "      <td>-1</td>\n",
       "      <td>9.0</td>\n",
       "      <td>11.0</td>\n",
       "      <td>NaN</td>\n",
       "      <td>NaN</td>\n",
       "      <td>NaN</td>\n",
       "      <td>NaN</td>\n",
       "      <td>NaN</td>\n",
       "      <td>NaN</td>\n",
       "      <td>...</td>\n",
       "      <td>3.0</td>\n",
       "      <td>0.0</td>\n",
       "      <td>9.0</td>\n",
       "      <td>NaN</td>\n",
       "      <td>3</td>\n",
       "      <td>FOOD</td>\n",
       "      <td>SINGLE_BUYER</td>\n",
       "      <td>0</td>\n",
       "      <td>1</td>\n",
       "      <td>4</td>\n",
       "    </tr>\n",
       "  </tbody>\n",
       "</table>\n",
       "<p>2 rows × 369 columns</p>\n",
       "</div>"
      ],
      "text/plain": [
       "    LNR  AGER_TYP  AKT_DAT_KL  ALTER_HH  ALTER_KIND1  ALTER_KIND2  \\\n",
       "0  9626         2         1.0      10.0          NaN          NaN   \n",
       "1  9628        -1         9.0      11.0          NaN          NaN   \n",
       "\n",
       "   ALTER_KIND3  ALTER_KIND4  ALTERSKATEGORIE_FEIN  ANZ_HAUSHALTE_AKTIV  \\\n",
       "0          NaN          NaN                  10.0                  1.0   \n",
       "1          NaN          NaN                   NaN                  NaN   \n",
       "\n",
       "          ...           VK_ZG11  W_KEIT_KIND_HH  WOHNDAUER_2008  WOHNLAGE  \\\n",
       "0         ...               2.0             6.0             9.0       7.0   \n",
       "1         ...               3.0             0.0             9.0       NaN   \n",
       "\n",
       "   ZABEOTYP      PRODUCT_GROUP  CUSTOMER_GROUP ONLINE_PURCHASE ANREDE_KZ  \\\n",
       "0         3  COSMETIC_AND_FOOD     MULTI_BUYER               0         1   \n",
       "1         3               FOOD    SINGLE_BUYER               0         1   \n",
       "\n",
       "  ALTERSKATEGORIE_GROB  \n",
       "0                    4  \n",
       "1                    4  \n",
       "\n",
       "[2 rows x 369 columns]"
      ]
     },
     "execution_count": 75,
     "metadata": {},
     "output_type": "execute_result"
    }
   ],
   "source": [
    "# customers = pd.read_csv('../data_Arvato/Udacity_CUSTOMERS_052018.csv')\n",
    "print(customers.shape)\n",
    "customers.head(2)"
   ]
  },
  {
   "cell_type": "code",
   "execution_count": 83,
   "metadata": {
    "ExecuteTime": {
     "end_time": "2020-05-19T17:21:24.329498Z",
     "start_time": "2020-05-19T17:21:24.322482Z"
    }
   },
   "outputs": [
    {
     "data": {
      "text/plain": [
       "['PRODUCT_GROUP', 'CUSTOMER_GROUP', 'ONLINE_PURCHASE']"
      ]
     },
     "execution_count": 83,
     "metadata": {},
     "output_type": "execute_result"
    }
   ],
   "source": [
    "[e for e in customers.columns if e not in azdias.columns]"
   ]
  },
  {
   "cell_type": "code",
   "execution_count": 85,
   "metadata": {
    "ExecuteTime": {
     "end_time": "2020-05-19T17:40:38.630617Z",
     "start_time": "2020-05-19T17:40:38.130268Z"
    }
   },
   "outputs": [
    {
     "data": {
      "text/plain": [
       "(191652, 366)"
      ]
     },
     "execution_count": 85,
     "metadata": {},
     "output_type": "execute_result"
    }
   ],
   "source": [
    "customers1 = customers.drop(columns=['PRODUCT_GROUP', 'CUSTOMER_GROUP', 'ONLINE_PURCHASE'])\n",
    "customers1.shape"
   ]
  },
  {
   "cell_type": "code",
   "execution_count": 107,
   "metadata": {
    "ExecuteTime": {
     "end_time": "2020-05-19T18:09:12.593269Z",
     "start_time": "2020-05-19T18:08:49.333942Z"
    }
   },
   "outputs": [],
   "source": [
    "# same as azdias data, apply same steps to customers data\n",
    "imputer = Imputer(missing_values='NaN',strategy='mean')\n",
    "scaler = StandardScaler()\n",
    "\n",
    "cust_pp = preprocess_arvato(customers1)\n",
    "cust_imp = imputer.fit_transform(cust_pp)\n",
    "cust_sca = scaler.fit_transform(cust_imp)\n",
    "cust_pca = pca.transform(cust_sca)\n",
    "cust_preds = kmeans.predict(cust_pca)"
   ]
  },
  {
   "cell_type": "code",
   "execution_count": 121,
   "metadata": {
    "ExecuteTime": {
     "end_time": "2020-05-19T18:23:10.747548Z",
     "start_time": "2020-05-19T18:23:10.186029Z"
    }
   },
   "outputs": [
    {
     "data": {
      "text/html": [
       "<div>\n",
       "<style scoped>\n",
       "    .dataframe tbody tr th:only-of-type {\n",
       "        vertical-align: middle;\n",
       "    }\n",
       "\n",
       "    .dataframe tbody tr th {\n",
       "        vertical-align: top;\n",
       "    }\n",
       "\n",
       "    .dataframe thead th {\n",
       "        text-align: right;\n",
       "    }\n",
       "</style>\n",
       "<table border=\"1\" class=\"dataframe\">\n",
       "  <thead>\n",
       "    <tr style=\"text-align: right;\">\n",
       "      <th></th>\n",
       "      <th>Group</th>\n",
       "      <th>Count</th>\n",
       "      <th>percent</th>\n",
       "    </tr>\n",
       "  </thead>\n",
       "  <tbody>\n",
       "    <tr>\n",
       "      <th>0</th>\n",
       "      <td>5</td>\n",
       "      <td>38645</td>\n",
       "      <td>20.2</td>\n",
       "    </tr>\n",
       "    <tr>\n",
       "      <th>1</th>\n",
       "      <td>10</td>\n",
       "      <td>36991</td>\n",
       "      <td>19.3</td>\n",
       "    </tr>\n",
       "    <tr>\n",
       "      <th>2</th>\n",
       "      <td>8</td>\n",
       "      <td>35572</td>\n",
       "      <td>18.6</td>\n",
       "    </tr>\n",
       "    <tr>\n",
       "      <th>3</th>\n",
       "      <td>9</td>\n",
       "      <td>22158</td>\n",
       "      <td>11.6</td>\n",
       "    </tr>\n",
       "    <tr>\n",
       "      <th>4</th>\n",
       "      <td>14</td>\n",
       "      <td>19281</td>\n",
       "      <td>10.1</td>\n",
       "    </tr>\n",
       "  </tbody>\n",
       "</table>\n",
       "</div>"
      ],
      "text/plain": [
       "   Group  Count  percent\n",
       "0      5  38645     20.2\n",
       "1     10  36991     19.3\n",
       "2      8  35572     18.6\n",
       "3      9  22158     11.6\n",
       "4     14  19281     10.1"
      ]
     },
     "execution_count": 121,
     "metadata": {},
     "output_type": "execute_result"
    }
   ],
   "source": [
    "cust_cluster = pd.DataFrame(np.round(cust_pca, 4), columns = dimensions)\n",
    "cust_cluster['cluster'] = cust_preds\n",
    "cust_cluster_count = groupcount(cust_cluster['cluster'])\n",
    "cust_cluster_count.head(5)"
   ]
  },
  {
   "cell_type": "code",
   "execution_count": 125,
   "metadata": {
    "ExecuteTime": {
     "end_time": "2020-05-19T18:28:03.285211Z",
     "start_time": "2020-05-19T18:28:02.998438Z"
    }
   },
   "outputs": [
    {
     "data": {
      "text/plain": [
       "Text(0,0.5,'Cluster')"
      ]
     },
     "execution_count": 125,
     "metadata": {},
     "output_type": "execute_result"
    },
    {
     "data": {
      "image/png": "[encoded data removed]",
      "text/plain": [
       "<Figure size 864x576 with 1 Axes>"
      ]
     },
     "metadata": {
      "needs_background": "light"
     },
     "output_type": "display_data"
    }
   ],
   "source": [
    "ax = general_cluster_count.plot(kind='barh', x='Group', y='percent',\n",
    "                                title =\"Cluster distribution for General population\",\n",
    "                                figsize=(12, 8), \n",
    "                                legend=False,\n",
    "                                fontsize=12)\n",
    "plt.xlabel('proportion')\n",
    "plt.ylabel('Cluster')"
   ]
  },
  {
   "cell_type": "code",
   "execution_count": 138,
   "metadata": {
    "ExecuteTime": {
     "end_time": "2020-05-19T18:56:33.912872Z",
     "start_time": "2020-05-19T18:56:33.637011Z"
    }
   },
   "outputs": [
    {
     "data": {
      "text/plain": [
       "Text(0,0.5,'Cluster')"
      ]
     },
     "execution_count": 138,
     "metadata": {},
     "output_type": "execute_result"
    },
    {
     "data": {
      "image/png": "[encoded data removed]",
      "text/plain": [
       "<Figure size 864x576 with 1 Axes>"
      ]
     },
     "metadata": {
      "needs_background": "light"
     },
     "output_type": "display_data"
    }
   ],
   "source": [
    "ax = cust_cluster_count.plot(kind='barh', x='Group', y='percent',\n",
    "                                title =\"Cluster distribution for customers\",\n",
    "                                figsize=(12, 8), \n",
    "                                legend=False,\n",
    "                                fontsize=12);\n",
    "plt.xlabel('proportion',fontsize=12)\n",
    "plt.ylabel('Cluster',fontsize=12)"
   ]
  },
  {
   "cell_type": "code",
   "execution_count": 130,
   "metadata": {
    "ExecuteTime": {
     "end_time": "2020-05-19T18:38:17.188233Z",
     "start_time": "2020-05-19T18:38:17.169181Z"
    }
   },
   "outputs": [
    {
     "data": {
      "text/html": [
       "<div>\n",
       "<style scoped>\n",
       "    .dataframe tbody tr th:only-of-type {\n",
       "        vertical-align: middle;\n",
       "    }\n",
       "\n",
       "    .dataframe tbody tr th {\n",
       "        vertical-align: top;\n",
       "    }\n",
       "\n",
       "    .dataframe thead th {\n",
       "        text-align: right;\n",
       "    }\n",
       "</style>\n",
       "<table border=\"1\" class=\"dataframe\">\n",
       "  <thead>\n",
       "    <tr style=\"text-align: right;\">\n",
       "      <th></th>\n",
       "      <th>Group</th>\n",
       "      <th>Count_general</th>\n",
       "      <th>percent_general</th>\n",
       "      <th>Count_customer</th>\n",
       "      <th>percent_customer</th>\n",
       "      <th>diff</th>\n",
       "    </tr>\n",
       "  </thead>\n",
       "  <tbody>\n",
       "    <tr>\n",
       "      <th>0</th>\n",
       "      <td>5</td>\n",
       "      <td>165963</td>\n",
       "      <td>18.6</td>\n",
       "      <td>38645</td>\n",
       "      <td>20.2</td>\n",
       "      <td>1.6</td>\n",
       "    </tr>\n",
       "    <tr>\n",
       "      <th>1</th>\n",
       "      <td>8</td>\n",
       "      <td>158383</td>\n",
       "      <td>17.8</td>\n",
       "      <td>35572</td>\n",
       "      <td>18.6</td>\n",
       "      <td>0.8</td>\n",
       "    </tr>\n",
       "    <tr>\n",
       "      <th>2</th>\n",
       "      <td>14</td>\n",
       "      <td>141584</td>\n",
       "      <td>15.9</td>\n",
       "      <td>19281</td>\n",
       "      <td>10.1</td>\n",
       "      <td>-5.8</td>\n",
       "    </tr>\n",
       "    <tr>\n",
       "      <th>3</th>\n",
       "      <td>2</td>\n",
       "      <td>135083</td>\n",
       "      <td>15.2</td>\n",
       "      <td>10548</td>\n",
       "      <td>5.5</td>\n",
       "      <td>-9.7</td>\n",
       "    </tr>\n",
       "    <tr>\n",
       "      <th>4</th>\n",
       "      <td>9</td>\n",
       "      <td>74423</td>\n",
       "      <td>8.4</td>\n",
       "      <td>22158</td>\n",
       "      <td>11.6</td>\n",
       "      <td>3.2</td>\n",
       "    </tr>\n",
       "  </tbody>\n",
       "</table>\n",
       "</div>"
      ],
      "text/plain": [
       "   Group  Count_general  percent_general  Count_customer  percent_customer  \\\n",
       "0      5         165963             18.6           38645              20.2   \n",
       "1      8         158383             17.8           35572              18.6   \n",
       "2     14         141584             15.9           19281              10.1   \n",
       "3      2         135083             15.2           10548               5.5   \n",
       "4      9          74423              8.4           22158              11.6   \n",
       "\n",
       "   diff  \n",
       "0   1.6  \n",
       "1   0.8  \n",
       "2  -5.8  \n",
       "3  -9.7  \n",
       "4   3.2  "
      ]
     },
     "execution_count": 130,
     "metadata": {},
     "output_type": "execute_result"
    }
   ],
   "source": [
    "cluster_diff = pd.merge(general_cluster_count,cust_cluster_count, how='left', on = 'Group',suffixes=['_general','_customer'])\n",
    "cluster_diff['diff'] = cluster_diff['percent_customer'] - cluster_diff['percent_general']\n",
    "cluster_diff.head()"
   ]
  },
  {
   "cell_type": "code",
   "execution_count": 137,
   "metadata": {
    "ExecuteTime": {
     "end_time": "2020-05-19T18:56:06.932308Z",
     "start_time": "2020-05-19T18:56:06.648052Z"
    }
   },
   "outputs": [
    {
     "data": {
      "text/plain": [
       "Text(0,0.5,'Cluster')"
      ]
     },
     "execution_count": 137,
     "metadata": {},
     "output_type": "execute_result"
    },
    {
     "data": {
      "image/png": "[encoded data removed]",
      "text/plain": [
       "<Figure size 864x576 with 1 Axes>"
      ]
     },
     "metadata": {
      "needs_background": "light"
     },
     "output_type": "display_data"
    }
   ],
   "source": [
    "ax = cluster_diff.sort_values(by=['diff']).plot(kind='barh', x='Group', y='diff',\n",
    "                                figsize=(12, 8), \n",
    "                                legend=False,\n",
    "                                fontsize=12);\n",
    "plt.title(\"difference of cluster distribution for general population and customers\",fontsize=14)\n",
    "plt.xlabel('proportion in difference',fontsize=12)\n",
    "plt.ylabel('Cluster',fontsize=12)"
   ]
  },
  {
   "cell_type": "markdown",
   "metadata": {},
   "source": [
    "* **discussion for comparing customer data and general population cluster difference:**<br>\n",
    "* In Customer group, cluster 10 has around 16% more and cluster 2 has around 10% less compared to the distribution in general population <br>\n",
    "* we can take a look into the data classified as cluster 10 and cluster 2, and compare some key features identified by PCA above to see if there is any pattern<br>"
   ]
  },
  {
   "cell_type": "code",
   "execution_count": 150,
   "metadata": {
    "ExecuteTime": {
     "end_time": "2020-05-19T19:53:47.015019Z",
     "start_time": "2020-05-19T19:53:47.006996Z"
    }
   },
   "outputs": [
    {
     "data": {
      "text/plain": [
       "10"
      ]
     },
     "execution_count": 150,
     "metadata": {},
     "output_type": "execute_result"
    }
   ],
   "source": [
    "# features in interest based on PCA top 2 components analysis\n",
    "interest_fet = list(set(list(mycp['CP1_feature']) + list(mycp['CP2_feature'])))\n",
    "len(interest_fet)"
   ]
  },
  {
   "cell_type": "code",
   "execution_count": 143,
   "metadata": {
    "ExecuteTime": {
     "end_time": "2020-05-19T19:35:40.442990Z",
     "start_time": "2020-05-19T19:35:39.296750Z"
    }
   },
   "outputs": [
    {
     "name": "stdout",
     "output_type": "stream",
     "text": [
      "(36991, 367) (10548, 367)\n"
     ]
    }
   ],
   "source": [
    "# get the over group (cluster10) and under group (cluster2)\n",
    "customers1['cluster'] = cust_preds\n",
    "cust_over = customers1[customers1['cluster']==10]\n",
    "cust_under = customers1[customers1['cluster']==2]\n",
    "print(cust_over.shape, cust_under.shape)"
   ]
  },
  {
   "cell_type": "code",
   "execution_count": 154,
   "metadata": {
    "ExecuteTime": {
     "end_time": "2020-05-19T20:15:20.051405Z",
     "start_time": "2020-05-19T20:15:19.273965Z"
    }
   },
   "outputs": [
    {
     "data": {
      "image/png": "[encoded data removed]",
      "text/plain": [
       "<Figure size 864x576 with 1 Axes>"
      ]
     },
     "metadata": {
      "needs_background": "light"
     },
     "output_type": "display_data"
    }
   ],
   "source": [
    "temp = pd.DataFrame(index=interest_fet, columns=['over','under'])\n",
    "for e in interest_fet:\n",
    "    temp.at[e,'over'] = cust_over[cust_over[e]>0][e].mean()\n",
    "    temp.at[e,'under'] = cust_under[cust_under[e]>0][e].mean()\n",
    "# temp\n",
    "\n",
    "# Plot the means of the interested features for the over and under represented groups\n",
    "fig, ax = plt.subplots(figsize=(12,8))\n",
    "plt.title(\"difference of cluster distribution for general population and customers\",fontsize=14)\n",
    "plt.xlabel('Mean',fontsize=12)\n",
    "temp.sort_values(by=['under']).plot.barh(ax=ax);"
   ]
  },
  {
   "cell_type": "markdown",
   "metadata": {},
   "source": [
    "Based on this comparison, the over represented group tends to have:\n",
    "    * higher MOBI_REGIO: lower moving activities\n",
    "    * lower PLZ8_ANTG1: lower number of 1-2 family houses in the PLZ8\n",
    "    * higher KBA05_KRSVAN: higher share of vans\n",
    "    * lower PLZ8_ANTG3: lower number of 6-10 family houses in the PLZ8\n",
    "    * lower KBA05_ANTG3: lower number of 6-10 family houses in the cell\n",
    "    * lower KBA05_SEG6: lower share of upper class cars (BMW 7er etc.) in the microcell\n",
    "    \n",
    "So in general, the over represented group tends to have these charactristict:\n",
    "* less moving activities\n",
    "* drive vans more often, not upper class cars"
   ]
  },
  {
   "cell_type": "code",
   "execution_count": 155,
   "metadata": {
    "ExecuteTime": {
     "end_time": "2020-05-19T20:19:25.058629Z",
     "start_time": "2020-05-19T20:19:24.993455Z"
    }
   },
   "outputs": [
    {
     "name": "stdout",
     "output_type": "stream",
     "text": [
      "2.0 2.628031145717464\n",
      "nan 1.0042708968883465\n"
     ]
    }
   ],
   "source": [
    "print(cust_over[cust_over['PLZ8_ANTG2']>0]['PLZ8_ANTG2'].mean(),cust_under[cust_under['PLZ8_ANTG2']>0]['PLZ8_ANTG2'].mean())\n",
    "print(cust_over[cust_over['PLZ8_ANTG4']>0]['PLZ8_ANTG4'].mean(),cust_under[cust_under['PLZ8_ANTG4']>0]['PLZ8_ANTG4'].mean())"
   ]
  },
  {
   "cell_type": "markdown",
   "metadata": {},
   "source": [
    "# Part 2: Supervised Learning Model\n",
    "\n",
    "Now that you've found which parts of the population are more likely to be customers of the mail-order company, it's time to build a prediction model. Each of the rows in the \"MAILOUT\" data files represents an individual that was targeted for a mailout campaign. Ideally, we should be able to use the demographic information from each individual to decide whether or not it will be worth it to include that person in the campaign.\n",
    "\n",
    "The \"MAILOUT\" data has been split into two approximately equal parts, each with almost 43 000 data rows. In this part, you can verify your model with the \"TRAIN\" partition, which includes a column, \"RESPONSE\", that states whether or not a person became a customer of the company following the campaign. In the next part, you'll need to create predictions on the \"TEST\" partition, where the \"RESPONSE\" column has been withheld."
   ]
  },
  {
   "cell_type": "code",
   "execution_count": 6,
   "metadata": {
    "ExecuteTime": {
     "end_time": "2020-05-20T23:19:01.647893Z",
     "start_time": "2020-05-20T23:19:01.638870Z"
    },
    "code_folding": [
     6
    ]
   },
   "outputs": [],
   "source": [
    "# import extra libraries\n",
    "# from imblearn.over_sampling import SMOTE\n",
    "from sklearn.ensemble import RandomForestClassifier, VotingClassifier, GradientBoostingClassifier\n",
    "from xgboost.sklearn import XGBRegressor, XGBClassifier\n",
    "import lightgbm as lgb\n",
    "\n",
    "def preprocess_arvato(df):\n",
    "    \"\"\"\n",
    "    perform preprocess steps for removing high missing columns, re-coding categorical features, extra columns removing\n",
    "    \"\"\"\n",
    "    \n",
    "    #drop high missing columns and some additional columns:\n",
    "    high_miss_col = ['ALTER_KIND4',\n",
    "                     'ALTER_KIND3',\n",
    "                     'ALTER_KIND2',\n",
    "                     'ALTER_KIND1',\n",
    "                     'AGER_TYP',\n",
    "                     'EXTSEL992',\n",
    "                     'KK_KUNDENTYP']\n",
    "    other_drop_col = ['LNR', 'EINGEFUEGT_AM']\n",
    "    drops = high_miss_col + other_drop_col\n",
    "    \n",
    "    df1 = df[[e for e in df.columns if e not in drops ]]\n",
    "    \n",
    "    # special encoding for OST_WEST_KZ\n",
    "    df1['OST_WEST_KZ'] = df1['OST_WEST_KZ'].replace({'W':1.0, 'O':2.0})\n",
    "    \n",
    "    # encode other catogorical values\n",
    "    cat_vars = ['CAMEO_DEU_2015',\n",
    "                 'CAMEO_DEUG_2015',\n",
    "                 'CAMEO_INTL_2015',\n",
    "                 'D19_LETZTER_KAUF_BRANCHE']\n",
    "    df1 = pd.get_dummies(df1, columns=cat_vars)\n",
    "     \n",
    "    return df1"
   ]
  },
  {
   "cell_type": "code",
   "execution_count": 5,
   "metadata": {
    "ExecuteTime": {
     "end_time": "2020-05-20T23:18:40.741291Z",
     "start_time": "2020-05-20T23:18:37.915755Z"
    }
   },
   "outputs": [
    {
     "name": "stdout",
     "output_type": "stream",
     "text": [
      "(42962, 367)\n"
     ]
    },
    {
     "data": {
      "text/html": [
       "<div>\n",
       "<style scoped>\n",
       "    .dataframe tbody tr th:only-of-type {\n",
       "        vertical-align: middle;\n",
       "    }\n",
       "\n",
       "    .dataframe tbody tr th {\n",
       "        vertical-align: top;\n",
       "    }\n",
       "\n",
       "    .dataframe thead th {\n",
       "        text-align: right;\n",
       "    }\n",
       "</style>\n",
       "<table border=\"1\" class=\"dataframe\">\n",
       "  <thead>\n",
       "    <tr style=\"text-align: right;\">\n",
       "      <th></th>\n",
       "      <th>LNR</th>\n",
       "      <th>AGER_TYP</th>\n",
       "      <th>AKT_DAT_KL</th>\n",
       "      <th>ALTER_HH</th>\n",
       "      <th>ALTER_KIND1</th>\n",
       "      <th>ALTER_KIND2</th>\n",
       "      <th>ALTER_KIND3</th>\n",
       "      <th>ALTER_KIND4</th>\n",
       "      <th>ALTERSKATEGORIE_FEIN</th>\n",
       "      <th>ANZ_HAUSHALTE_AKTIV</th>\n",
       "      <th>...</th>\n",
       "      <th>VK_DHT4A</th>\n",
       "      <th>VK_DISTANZ</th>\n",
       "      <th>VK_ZG11</th>\n",
       "      <th>W_KEIT_KIND_HH</th>\n",
       "      <th>WOHNDAUER_2008</th>\n",
       "      <th>WOHNLAGE</th>\n",
       "      <th>ZABEOTYP</th>\n",
       "      <th>RESPONSE</th>\n",
       "      <th>ANREDE_KZ</th>\n",
       "      <th>ALTERSKATEGORIE_GROB</th>\n",
       "    </tr>\n",
       "  </thead>\n",
       "  <tbody>\n",
       "    <tr>\n",
       "      <th>0</th>\n",
       "      <td>1763</td>\n",
       "      <td>2</td>\n",
       "      <td>1.0</td>\n",
       "      <td>8.0</td>\n",
       "      <td>NaN</td>\n",
       "      <td>NaN</td>\n",
       "      <td>NaN</td>\n",
       "      <td>NaN</td>\n",
       "      <td>8.0</td>\n",
       "      <td>15.0</td>\n",
       "      <td>...</td>\n",
       "      <td>5.0</td>\n",
       "      <td>2.0</td>\n",
       "      <td>1.0</td>\n",
       "      <td>6.0</td>\n",
       "      <td>9.0</td>\n",
       "      <td>3.0</td>\n",
       "      <td>3</td>\n",
       "      <td>0</td>\n",
       "      <td>2</td>\n",
       "      <td>4</td>\n",
       "    </tr>\n",
       "    <tr>\n",
       "      <th>1</th>\n",
       "      <td>1771</td>\n",
       "      <td>1</td>\n",
       "      <td>4.0</td>\n",
       "      <td>13.0</td>\n",
       "      <td>NaN</td>\n",
       "      <td>NaN</td>\n",
       "      <td>NaN</td>\n",
       "      <td>NaN</td>\n",
       "      <td>13.0</td>\n",
       "      <td>1.0</td>\n",
       "      <td>...</td>\n",
       "      <td>1.0</td>\n",
       "      <td>2.0</td>\n",
       "      <td>1.0</td>\n",
       "      <td>4.0</td>\n",
       "      <td>9.0</td>\n",
       "      <td>7.0</td>\n",
       "      <td>1</td>\n",
       "      <td>0</td>\n",
       "      <td>2</td>\n",
       "      <td>3</td>\n",
       "    </tr>\n",
       "    <tr>\n",
       "      <th>2</th>\n",
       "      <td>1776</td>\n",
       "      <td>1</td>\n",
       "      <td>1.0</td>\n",
       "      <td>9.0</td>\n",
       "      <td>NaN</td>\n",
       "      <td>NaN</td>\n",
       "      <td>NaN</td>\n",
       "      <td>NaN</td>\n",
       "      <td>7.0</td>\n",
       "      <td>0.0</td>\n",
       "      <td>...</td>\n",
       "      <td>6.0</td>\n",
       "      <td>4.0</td>\n",
       "      <td>2.0</td>\n",
       "      <td>NaN</td>\n",
       "      <td>9.0</td>\n",
       "      <td>2.0</td>\n",
       "      <td>3</td>\n",
       "      <td>0</td>\n",
       "      <td>1</td>\n",
       "      <td>4</td>\n",
       "    </tr>\n",
       "  </tbody>\n",
       "</table>\n",
       "<p>3 rows × 367 columns</p>\n",
       "</div>"
      ],
      "text/plain": [
       "    LNR  AGER_TYP  AKT_DAT_KL  ALTER_HH  ALTER_KIND1  ALTER_KIND2  \\\n",
       "0  1763         2         1.0       8.0          NaN          NaN   \n",
       "1  1771         1         4.0      13.0          NaN          NaN   \n",
       "2  1776         1         1.0       9.0          NaN          NaN   \n",
       "\n",
       "   ALTER_KIND3  ALTER_KIND4  ALTERSKATEGORIE_FEIN  ANZ_HAUSHALTE_AKTIV  \\\n",
       "0          NaN          NaN                   8.0                 15.0   \n",
       "1          NaN          NaN                  13.0                  1.0   \n",
       "2          NaN          NaN                   7.0                  0.0   \n",
       "\n",
       "          ...           VK_DHT4A  VK_DISTANZ  VK_ZG11  W_KEIT_KIND_HH  \\\n",
       "0         ...                5.0         2.0      1.0             6.0   \n",
       "1         ...                1.0         2.0      1.0             4.0   \n",
       "2         ...                6.0         4.0      2.0             NaN   \n",
       "\n",
       "   WOHNDAUER_2008  WOHNLAGE  ZABEOTYP RESPONSE ANREDE_KZ ALTERSKATEGORIE_GROB  \n",
       "0             9.0       3.0         3        0         2                    4  \n",
       "1             9.0       7.0         1        0         2                    3  \n",
       "2             9.0       2.0         3        0         1                    4  \n",
       "\n",
       "[3 rows x 367 columns]"
      ]
     },
     "execution_count": 5,
     "metadata": {},
     "output_type": "execute_result"
    }
   ],
   "source": [
    "# mailout_train = pd.read_csv('../../data/Term2/capstone/arvato_data/Udacity_MAILOUT_052018_TRAIN.csv', sep=';')\n",
    "Train = pd.read_csv('../data_Arvato/Udacity_MAILOUT_052018_TRAIN.csv')\n",
    "print(Train.shape)\n",
    "Train.head(3)"
   ]
  },
  {
   "cell_type": "code",
   "execution_count": 7,
   "metadata": {
    "ExecuteTime": {
     "end_time": "2020-05-20T23:19:17.543563Z",
     "start_time": "2020-05-20T23:19:17.518500Z"
    }
   },
   "outputs": [
    {
     "data": {
      "text/html": [
       "<div>\n",
       "<style scoped>\n",
       "    .dataframe tbody tr th:only-of-type {\n",
       "        vertical-align: middle;\n",
       "    }\n",
       "\n",
       "    .dataframe tbody tr th {\n",
       "        vertical-align: top;\n",
       "    }\n",
       "\n",
       "    .dataframe thead th {\n",
       "        text-align: right;\n",
       "    }\n",
       "</style>\n",
       "<table border=\"1\" class=\"dataframe\">\n",
       "  <thead>\n",
       "    <tr style=\"text-align: right;\">\n",
       "      <th></th>\n",
       "      <th>Group</th>\n",
       "      <th>Count</th>\n",
       "      <th>percent</th>\n",
       "    </tr>\n",
       "  </thead>\n",
       "  <tbody>\n",
       "    <tr>\n",
       "      <th>0</th>\n",
       "      <td>0</td>\n",
       "      <td>42430</td>\n",
       "      <td>98.8</td>\n",
       "    </tr>\n",
       "    <tr>\n",
       "      <th>1</th>\n",
       "      <td>1</td>\n",
       "      <td>532</td>\n",
       "      <td>1.2</td>\n",
       "    </tr>\n",
       "  </tbody>\n",
       "</table>\n",
       "</div>"
      ],
      "text/plain": [
       "   Group  Count  percent\n",
       "0      0  42430     98.8\n",
       "1      1    532      1.2"
      ]
     },
     "execution_count": 7,
     "metadata": {},
     "output_type": "execute_result"
    }
   ],
   "source": [
    "groupcount(Train['RESPONSE'])"
   ]
  },
  {
   "cell_type": "markdown",
   "metadata": {},
   "source": [
    "* **532 out of 42962 in training data is customer (1.2%)**\n",
    "* Due to the fact of imbalance, we can try with over sampling method to see if it can improve model performance\n",
    "* For such imbalance data, we will use ROC-AUC to evaluate model performance"
   ]
  },
  {
   "cell_type": "code",
   "execution_count": 8,
   "metadata": {
    "ExecuteTime": {
     "end_time": "2020-05-20T23:19:29.563327Z",
     "start_time": "2020-05-20T23:19:28.627795Z"
    }
   },
   "outputs": [
    {
     "name": "stdout",
     "output_type": "stream",
     "text": [
      "(42962, 367) (42962, 496)\n",
      "(42962, 495)\n"
     ]
    }
   ],
   "source": [
    "# preprocess the Train data\n",
    "Train_pp = preprocess_arvato(Train)\n",
    "print(Train.shape, Train_pp.shape)\n",
    "\n",
    "# split Train to features and target\n",
    "y = Train_pp['RESPONSE']\n",
    "X = Train_pp.drop(columns=['RESPONSE'])\n",
    "print(X.shape)"
   ]
  },
  {
   "cell_type": "markdown",
   "metadata": {
    "ExecuteTime": {
     "end_time": "2020-05-20T00:17:26.613891Z",
     "start_time": "2020-05-20T00:17:26.606872Z"
    }
   },
   "source": [
    "**Model Training and parameter tuning:**<br>\n",
    "* we will use GridSearchCV for parameter tuning, which could reduce overfitting \n",
    "* we will mainly use lightGBM as our target model, for saving time and higher efficacy\n",
    "    "
   ]
  },
  {
   "cell_type": "code",
   "execution_count": 9,
   "metadata": {
    "ExecuteTime": {
     "end_time": "2020-05-20T23:19:35.250897Z",
     "start_time": "2020-05-20T23:19:35.243877Z"
    }
   },
   "outputs": [],
   "source": [
    "# Tanks to CASPER HANSEN, https://mlfromscratch.com/gridsearch-keras-sklearn/#/\n",
    "def algorithm_pipeline(X_train_data, y_train_data,\n",
    "                       model, param_grid, cv=5, \n",
    "                       scoring_fit='neg_mean_squared_error'):\n",
    "    from sklearn.model_selection import GridSearchCV\n",
    "    gs = GridSearchCV(\n",
    "        estimator=model,\n",
    "        param_grid=param_grid, \n",
    "        cv=cv, \n",
    "        n_jobs=-1, \n",
    "        scoring=scoring_fit,\n",
    "        verbose=2,\n",
    "        return_train_score='True'\n",
    "    )\n",
    "    fitted_model = gs.fit(X_train_data, y_train_data)\n",
    "       \n",
    "    return fitted_model"
   ]
  },
  {
   "cell_type": "code",
   "execution_count": 206,
   "metadata": {
    "ExecuteTime": {
     "end_time": "2020-05-20T01:23:30.433346Z",
     "start_time": "2020-05-20T01:16:51.851202Z"
    }
   },
   "outputs": [
    {
     "name": "stdout",
     "output_type": "stream",
     "text": [
      "Fitting 5 folds for each of 8 candidates, totalling 40 fits\n"
     ]
    },
    {
     "name": "stderr",
     "output_type": "stream",
     "text": [
      "[Parallel(n_jobs=-1)]: Done  33 tasks      | elapsed:  5.3min\n",
      "[Parallel(n_jobs=-1)]: Done  40 out of  40 | elapsed:  6.4min finished\n"
     ]
    },
    {
     "name": "stdout",
     "output_type": "stream",
     "text": [
      "0.7252837795866545\n",
      "{'colsample_bytree': 0.8, 'max_depth': 25, 'min_split_gain': 0.4, 'n_estimators': 700, 'num_leaves': 100, 'reg_alpha': 1.1, 'reg_lambda': 1.1, 'subsample': 0.8, 'subsample_freq': 20}\n"
     ]
    }
   ],
   "source": [
    "################### for lightGBM ##################\n",
    "param_grid = {\n",
    "    'n_estimators': [700, 1000],\n",
    "    'colsample_bytree': [0.7, 0.8],\n",
    "    'max_depth': [3,4,5],\n",
    "    'num_leaves': [100],\n",
    "    'reg_alpha': [1.1],\n",
    "    'reg_lambda': [1.1],\n",
    "    'min_split_gain': [0.4],\n",
    "    'subsample': [0.8],\n",
    "    'subsample_freq': [20]\n",
    "}\n",
    "\n",
    "model = algorithm_pipeline(X, y, lgb.LGBMClassifier(),\n",
    "                            param_grid, cv=5, \n",
    "                           scoring_fit='roc_auc')\n",
    "\n",
    "print(model.best_score_)\n",
    "print(model.best_params_)"
   ]
  },
  {
   "cell_type": "code",
   "execution_count": 209,
   "metadata": {
    "ExecuteTime": {
     "end_time": "2020-05-20T01:38:20.697495Z",
     "start_time": "2020-05-20T01:29:30.789575Z"
    }
   },
   "outputs": [
    {
     "name": "stdout",
     "output_type": "stream",
     "text": [
      "Fitting 5 folds for each of 12 candidates, totalling 60 fits\n"
     ]
    },
    {
     "name": "stderr",
     "output_type": "stream",
     "text": [
      "[Parallel(n_jobs=-1)]: Done  33 tasks      | elapsed:  4.7min\n",
      "[Parallel(n_jobs=-1)]: Done  60 out of  60 | elapsed:  8.7min finished\n"
     ]
    },
    {
     "name": "stdout",
     "output_type": "stream",
     "text": [
      "0.7568929277839679\n",
      "{'colsample_bytree': 0.7, 'max_depth': 2, 'min_split_gain': 0.4, 'n_estimators': 500, 'num_leaves': 100, 'reg_alpha': 1.1, 'reg_lambda': 1.1, 'subsample': 0.8, 'subsample_freq': 20}\n"
     ]
    }
   ],
   "source": [
    "param_grid = {\n",
    "    'n_estimators': [500,700],\n",
    "    'colsample_bytree': [0.7, 0.8],\n",
    "    'max_depth': [2,3,4],\n",
    "    'num_leaves': [100],\n",
    "    'reg_alpha': [1.1],\n",
    "    'reg_lambda': [1.1],\n",
    "    'min_split_gain': [0.4],\n",
    "    'subsample': [0.8],\n",
    "    'subsample_freq': [20]\n",
    "}\n",
    "\n",
    "model = algorithm_pipeline(X, y, lgb.LGBMClassifier(),\n",
    "                            param_grid, cv=5, \n",
    "                           scoring_fit='roc_auc')\n",
    "\n",
    "print(model.best_score_)\n",
    "print(model.best_params_)"
   ]
  },
  {
   "cell_type": "code",
   "execution_count": 210,
   "metadata": {
    "ExecuteTime": {
     "end_time": "2020-05-20T01:46:18.434818Z",
     "start_time": "2020-05-20T01:41:44.930936Z"
    }
   },
   "outputs": [
    {
     "name": "stdout",
     "output_type": "stream",
     "text": [
      "Fitting 5 folds for each of 8 candidates, totalling 40 fits\n"
     ]
    },
    {
     "name": "stderr",
     "output_type": "stream",
     "text": [
      "[Parallel(n_jobs=-1)]: Done  33 tasks      | elapsed:  3.7min\n",
      "[Parallel(n_jobs=-1)]: Done  40 out of  40 | elapsed:  4.4min finished\n"
     ]
    },
    {
     "name": "stdout",
     "output_type": "stream",
     "text": [
      "0.7596945071380635\n",
      "{'colsample_bytree': 0.7, 'max_depth': 2, 'min_split_gain': 0.4, 'n_estimators': 300, 'num_leaves': 100, 'reg_alpha': 1.3, 'reg_lambda': 1.3, 'subsample': 0.8, 'subsample_freq': 20}\n"
     ]
    }
   ],
   "source": [
    "param_grid = {\n",
    "    'n_estimators': [300,500],\n",
    "    'colsample_bytree': [0.7],\n",
    "    'max_depth': [2],\n",
    "    'num_leaves': [100],\n",
    "    'reg_alpha': [1.1,1.3],\n",
    "    'reg_lambda': [1.1,1.3],\n",
    "    'min_split_gain': [0.4],\n",
    "    'subsample': [0.8],\n",
    "    'subsample_freq': [20]\n",
    "}\n",
    "\n",
    "model1 = algorithm_pipeline(X, y, lgb.LGBMClassifier(),\n",
    "                            param_grid, cv=5, \n",
    "                           scoring_fit='roc_auc')\n",
    "\n",
    "print(model1.best_score_)\n",
    "print(model1.best_params_)"
   ]
  },
  {
   "cell_type": "code",
   "execution_count": 211,
   "metadata": {
    "ExecuteTime": {
     "end_time": "2020-05-20T02:06:57.857924Z",
     "start_time": "2020-05-20T01:55:38.142041Z"
    }
   },
   "outputs": [
    {
     "name": "stdout",
     "output_type": "stream",
     "text": [
      "Fitting 5 folds for each of 24 candidates, totalling 120 fits\n"
     ]
    },
    {
     "name": "stderr",
     "output_type": "stream",
     "text": [
      "[Parallel(n_jobs=-1)]: Done  33 tasks      | elapsed:  3.4min\n",
      "[Parallel(n_jobs=-1)]: Done 120 out of 120 | elapsed: 11.2min finished\n"
     ]
    },
    {
     "name": "stdout",
     "output_type": "stream",
     "text": [
      "0.7667465660055132\n",
      "{'colsample_bytree': 0.7, 'max_depth': 2, 'min_split_gain': 0.4, 'n_estimators': 200, 'num_leaves': 100, 'reg_alpha': 1.5, 'reg_lambda': 1.5, 'subsample': 0.8, 'subsample_freq': 20}\n"
     ]
    }
   ],
   "source": [
    "param_grid = {\n",
    "    'n_estimators': [200,300],\n",
    "    'colsample_bytree': [0.7],\n",
    "    'max_depth': [2],\n",
    "    'num_leaves': [100],\n",
    "    'reg_alpha': [1.3,1.5],\n",
    "    'reg_lambda': [1.3,1.5],\n",
    "    'min_split_gain': [0.3,0.4,0.5],\n",
    "    'subsample': [0.8],\n",
    "    'subsample_freq': [20]\n",
    "}\n",
    "\n",
    "model2 = algorithm_pipeline(X, y, lgb.LGBMClassifier(),\n",
    "                            param_grid, cv=5, \n",
    "                           scoring_fit='roc_auc')\n",
    "\n",
    "print(model2.best_score_)\n",
    "print(model2.best_params_)"
   ]
  },
  {
   "cell_type": "code",
   "execution_count": 212,
   "metadata": {
    "ExecuteTime": {
     "end_time": "2020-05-20T02:19:10.475254Z",
     "start_time": "2020-05-20T02:10:00.131724Z"
    }
   },
   "outputs": [
    {
     "name": "stdout",
     "output_type": "stream",
     "text": [
      "Fitting 5 folds for each of 24 candidates, totalling 120 fits\n"
     ]
    },
    {
     "name": "stderr",
     "output_type": "stream",
     "text": [
      "[Parallel(n_jobs=-1)]: Done  33 tasks      | elapsed:  2.7min\n",
      "[Parallel(n_jobs=-1)]: Done 120 out of 120 | elapsed:  9.1min finished\n"
     ]
    },
    {
     "name": "stdout",
     "output_type": "stream",
     "text": [
      "0.7667465660055132\n",
      "{'colsample_bytree': 0.7, 'max_depth': 2, 'min_split_gain': 0.4, 'n_estimators': 200, 'num_leaves': 100, 'reg_alpha': 1.5, 'reg_lambda': 1.5, 'subsample': 0.8, 'subsample_freq': 20}\n"
     ]
    }
   ],
   "source": [
    "param_grid = {\n",
    "    'n_estimators': [200],\n",
    "    'colsample_bytree': [0.7],\n",
    "    'max_depth': [2],\n",
    "    'num_leaves': [100],\n",
    "    'reg_alpha': [1.5,1.6],\n",
    "    'reg_lambda': [1.5,1.6],\n",
    "    'min_split_gain': [0.4,0.6],\n",
    "    'subsample': [0.6,0.7,0.8],\n",
    "    'subsample_freq': [20]\n",
    "}\n",
    "\n",
    "model3 = algorithm_pipeline(X, y, lgb.LGBMClassifier(),\n",
    "                            param_grid, cv=5, \n",
    "                           scoring_fit='roc_auc')\n",
    "\n",
    "print(model3.best_score_)\n",
    "print(model3.best_params_)"
   ]
  },
  {
   "cell_type": "code",
   "execution_count": 213,
   "metadata": {
    "ExecuteTime": {
     "end_time": "2020-05-20T02:54:52.424856Z",
     "start_time": "2020-05-20T02:53:19.008229Z"
    }
   },
   "outputs": [
    {
     "name": "stdout",
     "output_type": "stream",
     "text": [
      "Fitting 5 folds for each of 4 candidates, totalling 20 fits\n"
     ]
    },
    {
     "name": "stderr",
     "output_type": "stream",
     "text": [
      "[Parallel(n_jobs=-1)]: Done  20 out of  20 | elapsed:  1.5min finished\n"
     ]
    },
    {
     "name": "stdout",
     "output_type": "stream",
     "text": [
      "0.7681747184084001\n",
      "{'colsample_bytree': 0.7, 'learning_rate': 0.01, 'max_depth': 2, 'min_data_in_leaf': 20, 'min_split_gain': 0.4, 'n_estimators': 200, 'num_leaves': 80, 'reg_alpha': 1.5, 'reg_lambda': 1.5, 'subsample': 0.8, 'subsample_freq': 20}\n"
     ]
    }
   ],
   "source": [
    "param_grid = {\n",
    "    'learning_rate':[0.01],\n",
    "    'n_estimators': [200],\n",
    "    'colsample_bytree': [0.7],\n",
    "    'max_depth': [2],\n",
    "    'num_leaves': [80,100],\n",
    "    'min_data_in_leaf':[20,30],\n",
    "    'reg_alpha': [1.5],\n",
    "    'reg_lambda': [1.5],\n",
    "    'min_split_gain': [0.4],\n",
    "    'subsample': [0.8],\n",
    "    'subsample_freq': [20]\n",
    "}\n",
    "\n",
    "model4 = algorithm_pipeline(X, y, lgb.LGBMClassifier(),\n",
    "                            param_grid, cv=5, \n",
    "                           scoring_fit='roc_auc')\n",
    "\n",
    "print(model4.best_score_)\n",
    "print(model4.best_params_)"
   ]
  },
  {
   "cell_type": "code",
   "execution_count": 11,
   "metadata": {
    "ExecuteTime": {
     "end_time": "2020-05-20T23:21:27.387366Z",
     "start_time": "2020-05-20T23:20:53.429547Z"
    }
   },
   "outputs": [
    {
     "name": "stdout",
     "output_type": "stream",
     "text": [
      "Fitting 5 folds for each of 1 candidates, totalling 5 fits\n"
     ]
    },
    {
     "name": "stderr",
     "output_type": "stream",
     "text": [
      "[Parallel(n_jobs=-1)]: Done   5 out of   5 | elapsed:   27.7s finished\n"
     ]
    },
    {
     "name": "stdout",
     "output_type": "stream",
     "text": [
      "0.7710440037523637\n",
      "{'colsample_bytree': 0.7, 'learning_rate': 0.01, 'max_depth': 3, 'min_data_in_leaf': 10, 'min_split_gain': 0.4, 'n_estimators': 200, 'num_leaves': 80, 'reg_alpha': 1.5, 'reg_lambda': 1.5, 'subsample': 0.8, 'subsample_freq': 20}\n"
     ]
    }
   ],
   "source": [
    "param_grid = {\n",
    "    'learning_rate':[0.01],\n",
    "    'n_estimators': [200],\n",
    "    'colsample_bytree': [0.7],\n",
    "    'max_depth': [3],\n",
    "    'num_leaves': [80],\n",
    "    'min_data_in_leaf':[10],\n",
    "    'reg_alpha': [1.5],\n",
    "    'reg_lambda': [1.5],\n",
    "    'min_split_gain': [0.4],\n",
    "    'subsample': [0.8],\n",
    "    'subsample_freq': [20]\n",
    "}\n",
    "\n",
    "model4 = algorithm_pipeline(X, y, lgb.LGBMClassifier(),\n",
    "                            param_grid, cv=5, \n",
    "                           scoring_fit='roc_auc')\n",
    "\n",
    "print(model4.best_score_)\n",
    "print(model4.best_params_)"
   ]
  },
  {
   "cell_type": "code",
   "execution_count": 17,
   "metadata": {
    "ExecuteTime": {
     "end_time": "2020-05-21T00:50:43.906576Z",
     "start_time": "2020-05-21T00:50:43.880506Z"
    }
   },
   "outputs": [
    {
     "data": {
      "text/plain": [
       "<lightgbm.basic.Booster at 0x268c849b9b0>"
      ]
     },
     "execution_count": 17,
     "metadata": {},
     "output_type": "execute_result"
    }
   ],
   "source": [
    "model4.best_estimator_.booster_.save_model('bestlgb.txt')"
   ]
  },
  {
   "cell_type": "code",
   "execution_count": 18,
   "metadata": {
    "ExecuteTime": {
     "end_time": "2020-05-21T00:52:37.115909Z",
     "start_time": "2020-05-21T00:52:36.096170Z"
    }
   },
   "outputs": [
    {
     "name": "stdout",
     "output_type": "stream",
     "text": [
      "ROC-AUC for whole training dataset: 0.8272660720266374\n"
     ]
    }
   ],
   "source": [
    "# best_param = {'colsample_bytree': 0.7, 'learning_rate': 0.01, \n",
    "#               'max_depth': 3, 'min_data_in_leaf': 10, \n",
    "#               'min_split_gain': 0.4, 'n_estimators': 200,\n",
    "#               'num_leaves': 80, 'reg_alpha': 1.5, 'reg_lambda': 1.5,\n",
    "#               'subsample': 0.8, 'subsample_freq': 20}\n",
    "\n",
    "final_model = lgb.Booster(model_file='bestlgb.txt')\n",
    "\n",
    "y_pred = final_model.predict(X)\n",
    "\n",
    "print('ROC-AUC for whole training dataset:',roc_auc_score(y.values,y_pred))"
   ]
  },
  {
   "cell_type": "code",
   "execution_count": 248,
   "metadata": {
    "ExecuteTime": {
     "end_time": "2020-05-20T16:06:28.182908Z",
     "start_time": "2020-05-20T16:06:27.244425Z"
    }
   },
   "outputs": [
    {
     "name": "stdout",
     "output_type": "stream",
     "text": [
      "ROC-AUC for whole training dataset: 0.8272660720266374\n"
     ]
    }
   ],
   "source": [
    "# roc-auc for whole training data set\n",
    "print('ROC-AUC for whole training dataset:',roc_auc_score(y.values,model4.best_estimator_.predict_proba(X)[:,1]))"
   ]
  },
  {
   "cell_type": "code",
   "execution_count": 215,
   "metadata": {
    "ExecuteTime": {
     "end_time": "2020-05-20T03:07:00.799908Z",
     "start_time": "2020-05-20T03:07:00.788880Z"
    },
    "code_folding": [
     0
    ]
   },
   "outputs": [],
   "source": [
    "def feature_plot(importances, X_train, y_train, num_feat=5):\n",
    "     \n",
    "    # Display the five most important features\n",
    "    indices = np.argsort(importances)[::-1]\n",
    "    columns = X_train.columns.values[indices[:num_feat]]\n",
    "    values = importances[indices][:num_feat]\n",
    " \n",
    "    # Create the plot\n",
    "    fig = plt.figure(figsize = (16,9))\n",
    "    plt.title(\"Normalized Weights for the Most Predictive Features\", fontsize = 16)\n",
    "    plt.barh(np.arange(num_feat), values[::-1], height = 0.6, align=\"center\", \\\n",
    "          label = \"Feature Weight\")\n",
    "    plt.barh(np.arange(num_feat) - 0.3, np.cumsum(values)[::-1], height = 0.2, align = \"center\", \\\n",
    "          label = \"Cumulative Feature Weight\")\n",
    "    plt.yticks(np.arange(num_feat), columns[::-1])\n",
    "    plt.xlabel(\"Weight\", fontsize = 12)\n",
    "    plt.ylabel('')\n",
    "     \n",
    "    plt.legend(loc = 'upper right')\n",
    "    plt.tight_layout()\n",
    "    plt.show()"
   ]
  },
  {
   "cell_type": "code",
   "execution_count": 245,
   "metadata": {
    "ExecuteTime": {
     "end_time": "2020-05-20T15:42:50.235321Z",
     "start_time": "2020-05-20T15:42:49.865526Z"
    }
   },
   "outputs": [
    {
     "data": {
      "image/png": "[encoded data removed]",
      "text/plain": [
       "<Figure size 1152x648 with 1 Axes>"
      ]
     },
     "metadata": {
      "needs_background": "light"
     },
     "output_type": "display_data"
    }
   ],
   "source": [
    "importances = model4.best_estimator_.feature_importances_\n",
    "\n",
    "feature_plot(importances, X, y, 10)"
   ]
  },
  {
   "cell_type": "code",
   "execution_count": null,
   "metadata": {},
   "outputs": [],
   "source": []
  },
  {
   "cell_type": "code",
   "execution_count": null,
   "metadata": {},
   "outputs": [],
   "source": []
  },
  {
   "cell_type": "markdown",
   "metadata": {},
   "source": [
    "## Part 3: Kaggle Competition\n",
    "\n",
    "Now that you've created a model to predict which individuals are most likely to respond to a mailout campaign, it's time to test that model in competition through Kaggle. If you click on the link [here](http://www.kaggle.com/t/21e6d45d4c574c7fa2d868f0e8c83140), you'll be taken to the competition page where, if you have a Kaggle account, you can enter. If you're one of the top performers, you may have the chance to be contacted by a hiring manager from Arvato or Bertelsmann for an interview!\n",
    "\n",
    "Your entry to the competition should be a CSV file with two columns. The first column should be a copy of \"LNR\", which acts as an ID number for each individual in the \"TEST\" partition. The second column, \"RESPONSE\", should be some measure of how likely each individual became a customer – this might not be a straightforward probability. As you should have found in Part 2, there is a large output class imbalance, where most individuals did not respond to the mailout. Thus, predicting individual classes and using accuracy does not seem to be an appropriate performance evaluation method. Instead, the competition will be using AUC to evaluate performance. The exact values of the \"RESPONSE\" column do not matter as much: only that the higher values try to capture as many of the actual customers as possible, early in the ROC curve sweep."
   ]
  },
  {
   "cell_type": "code",
   "execution_count": 228,
   "metadata": {
    "ExecuteTime": {
     "end_time": "2020-05-20T03:20:17.414318Z",
     "start_time": "2020-05-20T03:20:14.579616Z"
    }
   },
   "outputs": [
    {
     "name": "stdout",
     "output_type": "stream",
     "text": [
      "(42833, 366)\n"
     ]
    },
    {
     "data": {
      "text/html": [
       "<div>\n",
       "<style scoped>\n",
       "    .dataframe tbody tr th:only-of-type {\n",
       "        vertical-align: middle;\n",
       "    }\n",
       "\n",
       "    .dataframe tbody tr th {\n",
       "        vertical-align: top;\n",
       "    }\n",
       "\n",
       "    .dataframe thead th {\n",
       "        text-align: right;\n",
       "    }\n",
       "</style>\n",
       "<table border=\"1\" class=\"dataframe\">\n",
       "  <thead>\n",
       "    <tr style=\"text-align: right;\">\n",
       "      <th></th>\n",
       "      <th>LNR</th>\n",
       "      <th>AGER_TYP</th>\n",
       "      <th>AKT_DAT_KL</th>\n",
       "      <th>ALTER_HH</th>\n",
       "      <th>ALTER_KIND1</th>\n",
       "      <th>ALTER_KIND2</th>\n",
       "      <th>ALTER_KIND3</th>\n",
       "      <th>ALTER_KIND4</th>\n",
       "      <th>ALTERSKATEGORIE_FEIN</th>\n",
       "      <th>ANZ_HAUSHALTE_AKTIV</th>\n",
       "      <th>...</th>\n",
       "      <th>VHN</th>\n",
       "      <th>VK_DHT4A</th>\n",
       "      <th>VK_DISTANZ</th>\n",
       "      <th>VK_ZG11</th>\n",
       "      <th>W_KEIT_KIND_HH</th>\n",
       "      <th>WOHNDAUER_2008</th>\n",
       "      <th>WOHNLAGE</th>\n",
       "      <th>ZABEOTYP</th>\n",
       "      <th>ANREDE_KZ</th>\n",
       "      <th>ALTERSKATEGORIE_GROB</th>\n",
       "    </tr>\n",
       "  </thead>\n",
       "  <tbody>\n",
       "    <tr>\n",
       "      <th>0</th>\n",
       "      <td>1754</td>\n",
       "      <td>2</td>\n",
       "      <td>1.0</td>\n",
       "      <td>7.0</td>\n",
       "      <td>NaN</td>\n",
       "      <td>NaN</td>\n",
       "      <td>NaN</td>\n",
       "      <td>NaN</td>\n",
       "      <td>6.0</td>\n",
       "      <td>2.0</td>\n",
       "      <td>...</td>\n",
       "      <td>4.0</td>\n",
       "      <td>5.0</td>\n",
       "      <td>6.0</td>\n",
       "      <td>3.0</td>\n",
       "      <td>6.0</td>\n",
       "      <td>9.0</td>\n",
       "      <td>3.0</td>\n",
       "      <td>3</td>\n",
       "      <td>1</td>\n",
       "      <td>4</td>\n",
       "    </tr>\n",
       "    <tr>\n",
       "      <th>1</th>\n",
       "      <td>1770</td>\n",
       "      <td>-1</td>\n",
       "      <td>1.0</td>\n",
       "      <td>0.0</td>\n",
       "      <td>NaN</td>\n",
       "      <td>NaN</td>\n",
       "      <td>NaN</td>\n",
       "      <td>NaN</td>\n",
       "      <td>0.0</td>\n",
       "      <td>20.0</td>\n",
       "      <td>...</td>\n",
       "      <td>1.0</td>\n",
       "      <td>5.0</td>\n",
       "      <td>2.0</td>\n",
       "      <td>1.0</td>\n",
       "      <td>6.0</td>\n",
       "      <td>9.0</td>\n",
       "      <td>5.0</td>\n",
       "      <td>3</td>\n",
       "      <td>1</td>\n",
       "      <td>4</td>\n",
       "    </tr>\n",
       "    <tr>\n",
       "      <th>2</th>\n",
       "      <td>1465</td>\n",
       "      <td>2</td>\n",
       "      <td>9.0</td>\n",
       "      <td>16.0</td>\n",
       "      <td>NaN</td>\n",
       "      <td>NaN</td>\n",
       "      <td>NaN</td>\n",
       "      <td>NaN</td>\n",
       "      <td>11.0</td>\n",
       "      <td>2.0</td>\n",
       "      <td>...</td>\n",
       "      <td>3.0</td>\n",
       "      <td>9.0</td>\n",
       "      <td>6.0</td>\n",
       "      <td>3.0</td>\n",
       "      <td>2.0</td>\n",
       "      <td>9.0</td>\n",
       "      <td>4.0</td>\n",
       "      <td>3</td>\n",
       "      <td>2</td>\n",
       "      <td>4</td>\n",
       "    </tr>\n",
       "  </tbody>\n",
       "</table>\n",
       "<p>3 rows × 366 columns</p>\n",
       "</div>"
      ],
      "text/plain": [
       "    LNR  AGER_TYP  AKT_DAT_KL  ALTER_HH  ALTER_KIND1  ALTER_KIND2  \\\n",
       "0  1754         2         1.0       7.0          NaN          NaN   \n",
       "1  1770        -1         1.0       0.0          NaN          NaN   \n",
       "2  1465         2         9.0      16.0          NaN          NaN   \n",
       "\n",
       "   ALTER_KIND3  ALTER_KIND4  ALTERSKATEGORIE_FEIN  ANZ_HAUSHALTE_AKTIV  \\\n",
       "0          NaN          NaN                   6.0                  2.0   \n",
       "1          NaN          NaN                   0.0                 20.0   \n",
       "2          NaN          NaN                  11.0                  2.0   \n",
       "\n",
       "          ...           VHN  VK_DHT4A  VK_DISTANZ  VK_ZG11  W_KEIT_KIND_HH  \\\n",
       "0         ...           4.0       5.0         6.0      3.0             6.0   \n",
       "1         ...           1.0       5.0         2.0      1.0             6.0   \n",
       "2         ...           3.0       9.0         6.0      3.0             2.0   \n",
       "\n",
       "   WOHNDAUER_2008  WOHNLAGE ZABEOTYP ANREDE_KZ ALTERSKATEGORIE_GROB  \n",
       "0             9.0       3.0        3         1                    4  \n",
       "1             9.0       5.0        3         1                    4  \n",
       "2             9.0       4.0        3         2                    4  \n",
       "\n",
       "[3 rows x 366 columns]"
      ]
     },
     "execution_count": 228,
     "metadata": {},
     "output_type": "execute_result"
    }
   ],
   "source": [
    "# mailout_test = pd.read_csv('../../data/Term2/capstone/arvato_data/Udacity_MAILOUT_052018_TEST.csv', sep=';')\n",
    "Test = pd.read_csv('../data_Arvato/Udacity_MAILOUT_052018_TEST.csv')\n",
    "print(Test.shape)\n",
    "Test.head(3)"
   ]
  },
  {
   "cell_type": "code",
   "execution_count": 229,
   "metadata": {
    "ExecuteTime": {
     "end_time": "2020-05-20T03:21:02.181464Z",
     "start_time": "2020-05-20T03:21:01.202474Z"
    }
   },
   "outputs": [
    {
     "name": "stdout",
     "output_type": "stream",
     "text": [
      "(42833, 366) (42833, 495)\n"
     ]
    }
   ],
   "source": [
    "Test_pp = preprocess_arvato(Test)\n",
    "print(Test.shape, Test_pp.shape)"
   ]
  },
  {
   "cell_type": "code",
   "execution_count": 230,
   "metadata": {
    "ExecuteTime": {
     "end_time": "2020-05-20T03:21:54.521101Z",
     "start_time": "2020-05-20T03:21:53.437678Z"
    }
   },
   "outputs": [
    {
     "data": {
      "text/plain": [
       "array([0.03212408, 0.03220892, 0.00451184, 0.00528767, 0.00629468])"
      ]
     },
     "execution_count": 230,
     "metadata": {},
     "output_type": "execute_result"
    }
   ],
   "source": [
    "test_pred = model4.best_estimator_.predict_proba(Test_pp)[:,1]\n",
    "test_pred[0:5]"
   ]
  },
  {
   "cell_type": "code",
   "execution_count": 246,
   "metadata": {
    "ExecuteTime": {
     "end_time": "2020-05-20T15:44:17.040939Z",
     "start_time": "2020-05-20T15:44:17.009854Z"
    }
   },
   "outputs": [
    {
     "data": {
      "text/html": [
       "<div>\n",
       "<style scoped>\n",
       "    .dataframe tbody tr th:only-of-type {\n",
       "        vertical-align: middle;\n",
       "    }\n",
       "\n",
       "    .dataframe tbody tr th {\n",
       "        vertical-align: top;\n",
       "    }\n",
       "\n",
       "    .dataframe thead th {\n",
       "        text-align: right;\n",
       "    }\n",
       "</style>\n",
       "<table border=\"1\" class=\"dataframe\">\n",
       "  <thead>\n",
       "    <tr style=\"text-align: right;\">\n",
       "      <th></th>\n",
       "      <th>RESPONSE</th>\n",
       "    </tr>\n",
       "    <tr>\n",
       "      <th>LNR</th>\n",
       "      <th></th>\n",
       "    </tr>\n",
       "  </thead>\n",
       "  <tbody>\n",
       "    <tr>\n",
       "      <th>1754</th>\n",
       "      <td>0.032124</td>\n",
       "    </tr>\n",
       "    <tr>\n",
       "      <th>1770</th>\n",
       "      <td>0.032209</td>\n",
       "    </tr>\n",
       "    <tr>\n",
       "      <th>1465</th>\n",
       "      <td>0.004512</td>\n",
       "    </tr>\n",
       "    <tr>\n",
       "      <th>1470</th>\n",
       "      <td>0.005288</td>\n",
       "    </tr>\n",
       "    <tr>\n",
       "      <th>1478</th>\n",
       "      <td>0.006295</td>\n",
       "    </tr>\n",
       "  </tbody>\n",
       "</table>\n",
       "</div>"
      ],
      "text/plain": [
       "      RESPONSE\n",
       "LNR           \n",
       "1754  0.032124\n",
       "1770  0.032209\n",
       "1465  0.004512\n",
       "1470  0.005288\n",
       "1478  0.006295"
      ]
     },
     "execution_count": 246,
     "metadata": {},
     "output_type": "execute_result"
    }
   ],
   "source": [
    "submission = pd.DataFrame()\n",
    "submission['LNR'] = Test['LNR']\n",
    "submission['RESPONSE'] = test_pred\n",
    "submission.set_index('LNR',inplace=True)\n",
    "submission.head()"
   ]
  },
  {
   "cell_type": "code",
   "execution_count": 247,
   "metadata": {
    "ExecuteTime": {
     "end_time": "2020-05-20T15:44:24.223489Z",
     "start_time": "2020-05-20T15:44:24.025944Z"
    }
   },
   "outputs": [],
   "source": [
    "submission.to_csv('submission.csv')"
   ]
  },
  {
   "cell_type": "code",
   "execution_count": null,
   "metadata": {},
   "outputs": [],
   "source": []
  }
 ],
 "metadata": {
  "kernelspec": {
   "display_name": "Python 3.6.5 64-bit ('base': conda)",
   "language": "python",
   "name": "python36564bitbaseconda70de1e1606784ed99414d9108fed397a"
  },
  "language_info": {
   "codemirror_mode": {
    "name": "ipython",
    "version": 3
   },
   "file_extension": ".py",
   "mimetype": "text/x-python",
   "name": "python",
   "nbconvert_exporter": "python",
   "pygments_lexer": "ipython3",
   "version": "3.6.5"
  },
  "toc": {
   "base_numbering": 1,
   "nav_menu": {},
   "number_sections": true,
   "sideBar": true,
   "skip_h1_title": false,
   "title_cell": "Table of Contents",
   "title_sidebar": "Contents",
   "toc_cell": false,
   "toc_position": {
    "height": "calc(100% - 180px)",
    "left": "10px",
    "top": "150px",
    "width": "349.091px"
   },
   "toc_section_display": true,
   "toc_window_display": true
  },
  "varInspector": {
   "cols": {
    "lenName": 16,
    "lenType": 16,
    "lenVar": 40
   },
   "kernels_config": {
    "python": {
     "delete_cmd_postfix": "",
     "delete_cmd_prefix": "del ",
     "library": "var_list.py",
     "varRefreshCmd": "print(var_dic_list())"
    },
    "r": {
     "delete_cmd_postfix": ") ",
     "delete_cmd_prefix": "rm(",
     "library": "var_list.r",
     "varRefreshCmd": "cat(var_dic_list()) "
    }
   },
   "position": {
    "height": "657px",
    "left": "1550px",
    "right": "20px",
    "top": "120px",
    "width": "352px"
   },
   "types_to_exclude": [
    "module",
    "function",
    "builtin_function_or_method",
    "instance",
    "_Feature"
   ],
   "window_display": false
  }
 },
 "nbformat": 4,
 "nbformat_minor": 2
}
